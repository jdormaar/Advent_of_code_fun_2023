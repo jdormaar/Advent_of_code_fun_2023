{
 "cells": [
  {
   "cell_type": "markdown",
   "metadata": {},
   "source": [
    "<h1 \n",
    "  style=\"color:#207d06; border-bottom: 3px solid #207d06;\"\n",
    "</h1>\n",
    "<h1 \n",
    "  style=\"color:#165b33; border-bottom: 3px solid #165b33;\"\n",
    "</h1>\n",
    "<h1 \n",
    "  style=\"color:#146b3a; border-bottom: 3px solid #146b3a;\"\n",
    "</h1>\n",
    "<h1 \n",
    "  style=\"color:#f8b229; border-bottom: 3px solid #f8b229;\"\n",
    "</h1>\n",
    "<h1 \n",
    "  style=\"color:#ea4630; border-bottom: 3px solid #ea4630;\"\n",
    "</h1>\n",
    "<h1 \n",
    "  style=\"color:#bb2528; border-bottom: 3px solid #bb2528;\"\n",
    "</h1>\n",
    "<h1 \n",
    "  style=\"color:#4974a5; border-bottom: 3px solid #bb2528;\"\n",
    ">\n",
    "  Day 1: Trebuchet?! \n",
    "</h1>\n"
   ]
  },
  {
   "cell_type": "markdown",
   "metadata": {},
   "source": [
    "<h2 \n",
    "  style=\"color:#207d06; border-bottom: 3px solid #207d06; border-top: 3px solid #207d06;\"\n",
    ">\n",
    "  Part One\n",
    "</h2>"
   ]
  },
  {
   "cell_type": "markdown",
   "metadata": {},
   "source": [
    "--- \n",
    "\n",
    "## Day 1: Trebuchet?! \n",
    "\n",
    "---\n",
    "\n",
    "Something is wrong with global snow production, and you've been selected to take a look. The Elves have even given you a map; on it, they've used stars to mark the top fifty locations that are likely to be having problems.\n",
    "\n",
    "You've been doing this long enough to know that to restore snow operations, you need to check all fifty stars by December 25th.\n",
    "\n",
    "Collect stars by solving puzzles. Two puzzles will be made available on each day in the Advent calendar; the second puzzle is unlocked when you complete the first. Each puzzle grants one star. Good luck!\n",
    "\n",
    "You try to ask why they can't just use a weather machine (\"not powerful enough\") and where they're even sending you (\"the sky\") and why your map looks mostly blank (\"you sure ask a lot of questions\") and hang on did you just say the sky (\"of course, where do you think snow comes from\") when you realize that the Elves are already loading you into a trebuchet (\"please hold still, we need to strap you in\").\n",
    "\n",
    "As they're making the final adjustments, they discover that their calibration document (your puzzle input) has been amended by a very young Elf who was apparently just excited to show off her art skills. Consequently, the Elves are having trouble reading the values on the document.\n",
    "\n",
    "The newly-improved calibration document consists of lines of text; each line originally contained a specific calibration value that the Elves now need to recover. On each line, the calibration value can be found by combining the first digit and the last digit (in that order) to form a single two-digit number.\n",
    "\n",
    "For example:\n",
    "```\n",
    "1abc2\n",
    "pqr3stu8vwx\n",
    "a1b2c3d4e5f\n",
    "treb7uchet\n",
    "```\n",
    "\n",
    "In this example, the calibration values of these four lines are `12`, `38`, `15`, and `77`. Adding these together produces 142.\n",
    "\n",
    "Consider your entire calibration document. What is the sum of all of the calibration values?\n",
    "\n",
    "To begin, get your puzzle input.\n",
    "\n",
    "Answer: \n",
    " "
   ]
  },
  {
   "cell_type": "code",
   "execution_count": 244,
   "metadata": {},
   "outputs": [],
   "source": [
    "import pandas as pd\n"
   ]
  },
  {
   "cell_type": "code",
   "execution_count": 245,
   "metadata": {},
   "outputs": [
    {
     "data": {
      "text/html": [
       "<div>\n",
       "<style scoped>\n",
       "    .dataframe tbody tr th:only-of-type {\n",
       "        vertical-align: middle;\n",
       "    }\n",
       "\n",
       "    .dataframe tbody tr th {\n",
       "        vertical-align: top;\n",
       "    }\n",
       "\n",
       "    .dataframe thead th {\n",
       "        text-align: right;\n",
       "    }\n",
       "</style>\n",
       "<table border=\"1\" class=\"dataframe\">\n",
       "  <thead>\n",
       "    <tr style=\"text-align: right;\">\n",
       "      <th></th>\n",
       "      <th>elf_art</th>\n",
       "    </tr>\n",
       "  </thead>\n",
       "  <tbody>\n",
       "    <tr>\n",
       "      <th>0</th>\n",
       "      <td>fivepqxlpninevh2xxsnsgg63pbvdnqptmg</td>\n",
       "    </tr>\n",
       "    <tr>\n",
       "      <th>1</th>\n",
       "      <td>eight8zlctbmsixhrvbpjb84nnmlcqkzrsix</td>\n",
       "    </tr>\n",
       "    <tr>\n",
       "      <th>2</th>\n",
       "      <td>hkxqfrqmsixfplbkpkdfzzszjxmdjtdkjlprrvr3gghlrq...</td>\n",
       "    </tr>\n",
       "    <tr>\n",
       "      <th>3</th>\n",
       "      <td>zkjkctxvssix1dqb22five</td>\n",
       "    </tr>\n",
       "    <tr>\n",
       "      <th>4</th>\n",
       "      <td>4dtlmkfnm</td>\n",
       "    </tr>\n",
       "  </tbody>\n",
       "</table>\n",
       "</div>"
      ],
      "text/plain": [
       "                                             elf_art\n",
       "0                fivepqxlpninevh2xxsnsgg63pbvdnqptmg\n",
       "1               eight8zlctbmsixhrvbpjb84nnmlcqkzrsix\n",
       "2  hkxqfrqmsixfplbkpkdfzzszjxmdjtdkjlprrvr3gghlrq...\n",
       "3                             zkjkctxvssix1dqb22five\n",
       "4                                          4dtlmkfnm"
      ]
     },
     "execution_count": 245,
     "metadata": {},
     "output_type": "execute_result"
    }
   ],
   "source": [
    "calibration_document = pd.read_csv('./data/Day1.csv', header=0)\n",
    "\n",
    "cd = calibration_document.copy()\n",
    "cd.head()\n"
   ]
  },
  {
   "cell_type": "code",
   "execution_count": 246,
   "metadata": {},
   "outputs": [],
   "source": [
    "def calibration_values(value):\n",
    "  cal_nums = []\n",
    "  [cal_nums.append(i) for i in value if i.isnumeric()]\n",
    "  answer = int(cal_nums[0]+cal_nums[-1]) if len(cal_nums) !=0 else 0\n",
    "  return answer\n",
    "  # return int(cal_nums[0]+cal_nums[-1])\n",
    "\n",
    "def sum_calibration_values(series):\n",
    "  cal_vals = []\n",
    "  [cal_vals.append(calibration_values(num)) for num in series]\n",
    "  return sum(cal_vals)\n",
    "\n"
   ]
  },
  {
   "cell_type": "code",
   "execution_count": 247,
   "metadata": {},
   "outputs": [
    {
     "data": {
      "text/plain": [
       "196"
      ]
     },
     "execution_count": 247,
     "metadata": {},
     "output_type": "execute_result"
    }
   ],
   "source": [
    "test = cd['elf_art'][:5].copy()\n",
    "sum_calibration_values(test)\n"
   ]
  },
  {
   "cell_type": "code",
   "execution_count": 248,
   "metadata": {},
   "outputs": [
    {
     "data": {
      "text/plain": [
       "142"
      ]
     },
     "execution_count": 248,
     "metadata": {},
     "output_type": "execute_result"
    }
   ],
   "source": [
    "test = ['1abc2', 'pqr3stu8vwx', 'a1b2c3d4e5f', 'treb7uchet']\n",
    "sum_calibration_values(test)\n"
   ]
  },
  {
   "cell_type": "code",
   "execution_count": 249,
   "metadata": {},
   "outputs": [
    {
     "data": {
      "text/plain": [
       "53651"
      ]
     },
     "execution_count": 249,
     "metadata": {},
     "output_type": "execute_result"
    }
   ],
   "source": [
    "sum_calibration_values(cd['elf_art'])\n"
   ]
  },
  {
   "cell_type": "markdown",
   "metadata": {},
   "source": [
    "Your puzzle answer was `53651`.\n",
    "\n",
    "The first half of this puzzle is complete! It provides one gold star: *\n"
   ]
  },
  {
   "cell_type": "markdown",
   "metadata": {},
   "source": [
    "<h2 \n",
    "  style=\"color:#207d06; border-bottom: 3px solid #207d06; border-top: 3px solid #207d06;\"\n",
    ">\n",
    "  Part Two\n",
    "</h2>"
   ]
  },
  {
   "cell_type": "markdown",
   "metadata": {},
   "source": [
    "Your calculation isn't quite right. It looks like some of the digits are actually spelled out with letters: one, two, three, four, five, six, seven, eight, and nine also count as valid \"digits\".\n",
    "\n",
    "Equipped with this new information, you now need to find the real first and last digit on each line. For example:\n",
    "```\n",
    "two1nine\n",
    "eightwothree\n",
    "abcone2threexyz\n",
    "xtwone3four\n",
    "4nineeightseven2\n",
    "zoneight234\n",
    "7pqrstsixteen\n",
    "```\n",
    "\n",
    "In this example, the calibration values are `29`, `83`, `13`, `24`, `42`, `14`, and `76`. Adding these together produces `281`.\n",
    "\n",
    "What is the sum of all of the calibration values?\n",
    "\n",
    "Answer:"
   ]
  },
  {
   "cell_type": "code",
   "execution_count": 250,
   "metadata": {},
   "outputs": [],
   "source": [
    "num_dict = {\n",
    "  'one': 'o1e',\n",
    "  'two': 't2o',\n",
    "  'three': 't3e',\n",
    "  'four': 'f4r',\n",
    "  'five': 'f5e',\n",
    "  'six': 's6x',\n",
    "  'seven': 's7n',\n",
    "  'eight': 'e8t',\n",
    "  'nine': 'n9e',\n",
    "}\n"
   ]
  },
  {
   "cell_type": "code",
   "execution_count": 251,
   "metadata": {},
   "outputs": [],
   "source": [
    "def validate_text_nums(value):\n",
    "  for i in list(num_dict.keys()):\n",
    "    if i in value:\n",
    "      value=value.replace(i, str(num_dict[i]))\n",
    "    else:\n",
    "      None\n",
    "  return value\n"
   ]
  },
  {
   "cell_type": "code",
   "execution_count": 252,
   "metadata": {},
   "outputs": [
    {
     "name": "stdout",
     "output_type": "stream",
     "text": [
      "two1nine ==> t2o1n9e ==> 29\n",
      "\n",
      "eightwothree ==> e8t2ot3e ==> 83\n",
      "\n",
      "abcone2threexyz ==> abco1e2t3exyz ==> 13\n",
      "\n",
      "xtwone3four ==> xt2o1e3f4r ==> 24\n",
      "\n",
      "4nineeightseven2 ==> 4n9ee8ts7n2 ==> 42\n",
      "\n",
      "zoneight234 ==> zo1e8t234 ==> 14\n",
      "\n",
      "7pqrstsixteen ==> 7pqrsts6xteen ==> 76\n",
      "\n"
     ]
    }
   ],
   "source": [
    "# Test the example givin in the description:\n",
    "test = ['two1nine', 'eightwothree', 'abcone2threexyz', 'xtwone3four', '4nineeightseven2', 'zoneight234', '7pqrstsixteen']\n",
    "\n",
    "# Expected answers are `29`, `83`, `13`, `24`, `42`, `14`, and `76`.\n",
    "for i in range(len(test)):\n",
    "  new_val = validate_text_nums(test[i])\n",
    "  print(f'{test[i]} ==> {new_val} ==> {calibration_values(new_val)}\\n')\n",
    "\n"
   ]
  },
  {
   "cell_type": "code",
   "execution_count": 253,
   "metadata": {},
   "outputs": [
    {
     "data": {
      "text/plain": [
       "281"
      ]
     },
     "execution_count": 253,
     "metadata": {},
     "output_type": "execute_result"
    }
   ],
   "source": [
    "# Expected sum_calibration_value = 281\n",
    "test = [validate_text_nums(i) for i in test]\n",
    "sum_calibration_values(test)\n"
   ]
  },
  {
   "cell_type": "code",
   "execution_count": 254,
   "metadata": {},
   "outputs": [
    {
     "data": {
      "text/html": [
       "<div>\n",
       "<style scoped>\n",
       "    .dataframe tbody tr th:only-of-type {\n",
       "        vertical-align: middle;\n",
       "    }\n",
       "\n",
       "    .dataframe tbody tr th {\n",
       "        vertical-align: top;\n",
       "    }\n",
       "\n",
       "    .dataframe thead th {\n",
       "        text-align: right;\n",
       "    }\n",
       "</style>\n",
       "<table border=\"1\" class=\"dataframe\">\n",
       "  <thead>\n",
       "    <tr style=\"text-align: right;\">\n",
       "      <th></th>\n",
       "      <th>elf_art</th>\n",
       "      <th>num_art</th>\n",
       "      <th>calibration_value</th>\n",
       "    </tr>\n",
       "  </thead>\n",
       "  <tbody>\n",
       "    <tr>\n",
       "      <th>0</th>\n",
       "      <td>fivepqxlpninevh2xxsnsgg63pbvdnqptmg</td>\n",
       "      <td>f5epqxlpn9evh2xxsnsgg63pbvdnqptmg</td>\n",
       "      <td>53</td>\n",
       "    </tr>\n",
       "    <tr>\n",
       "      <th>1</th>\n",
       "      <td>eight8zlctbmsixhrvbpjb84nnmlcqkzrsix</td>\n",
       "      <td>e8t8zlctbms6xhrvbpjb84nnmlcqkzrs6x</td>\n",
       "      <td>86</td>\n",
       "    </tr>\n",
       "    <tr>\n",
       "      <th>2</th>\n",
       "      <td>hkxqfrqmsixfplbkpkdfzzszjxmdjtdkjlprrvr3gghlrq...</td>\n",
       "      <td>hkxqfrqms6xfplbkpkdfzzszjxmdjtdkjlprrvr3gghlrq...</td>\n",
       "      <td>63</td>\n",
       "    </tr>\n",
       "    <tr>\n",
       "      <th>3</th>\n",
       "      <td>zkjkctxvssix1dqb22five</td>\n",
       "      <td>zkjkctxvss6x1dqb22f5e</td>\n",
       "      <td>65</td>\n",
       "    </tr>\n",
       "    <tr>\n",
       "      <th>4</th>\n",
       "      <td>4dtlmkfnm</td>\n",
       "      <td>4dtlmkfnm</td>\n",
       "      <td>44</td>\n",
       "    </tr>\n",
       "  </tbody>\n",
       "</table>\n",
       "</div>"
      ],
      "text/plain": [
       "                                             elf_art  \\\n",
       "0                fivepqxlpninevh2xxsnsgg63pbvdnqptmg   \n",
       "1               eight8zlctbmsixhrvbpjb84nnmlcqkzrsix   \n",
       "2  hkxqfrqmsixfplbkpkdfzzszjxmdjtdkjlprrvr3gghlrq...   \n",
       "3                             zkjkctxvssix1dqb22five   \n",
       "4                                          4dtlmkfnm   \n",
       "\n",
       "                                             num_art  calibration_value  \n",
       "0                  f5epqxlpn9evh2xxsnsgg63pbvdnqptmg                 53  \n",
       "1                 e8t8zlctbms6xhrvbpjb84nnmlcqkzrs6x                 86  \n",
       "2  hkxqfrqms6xfplbkpkdfzzszjxmdjtdkjlprrvr3gghlrq...                 63  \n",
       "3                              zkjkctxvss6x1dqb22f5e                 65  \n",
       "4                                          4dtlmkfnm                 44  "
      ]
     },
     "execution_count": 254,
     "metadata": {},
     "output_type": "execute_result"
    }
   ],
   "source": [
    "# Apply changes and calibrated values to working dataframe:\n",
    "cd['num_art'] = cd['elf_art'].apply(lambda x: validate_text_nums(x))\n",
    "cd['calibration_value'] = cd['num_art'].apply(lambda x: calibration_values(x))\n",
    "\n",
    "cd.head()\n"
   ]
  },
  {
   "cell_type": "code",
   "execution_count": 256,
   "metadata": {},
   "outputs": [
    {
     "data": {
      "text/plain": [
       "53894"
      ]
     },
     "execution_count": 256,
     "metadata": {},
     "output_type": "execute_result"
    }
   ],
   "source": [
    "sum_calibration_values(cd['num_art'])\n"
   ]
  },
  {
   "cell_type": "markdown",
   "metadata": {},
   "source": [
    "Your puzzle answer was `53894`:\n",
    "\n",
    "That's the right answer! You are one gold star closer to restoring snow operations.\n",
    "\n",
    "Both parts of this puzzle are complete! They provide two gold stars: **\n",
    "\n",
    "At this point, you should return to your Advent calendar and try another puzzle.\n",
    "\n",
    "If you still want to see it, you can get your puzzle input.\n",
    "\n",
    "\n",
    "You have completed Day 1!"
   ]
  },
  {
   "cell_type": "markdown",
   "metadata": {},
   "source": [
    "<h5 style=\"text-align:right; padding-right: 10%;\">\n",
    "  <a href=\"#title\">Top Of Page</a>\n",
    "</h5>"
   ]
  }
 ],
 "metadata": {
  "kernelspec": {
   "display_name": "base_env",
   "language": "python",
   "name": "base_env"
  },
  "language_info": {
   "codemirror_mode": {
    "name": "ipython",
    "version": 3
   },
   "file_extension": ".py",
   "mimetype": "text/x-python",
   "name": "python",
   "nbconvert_exporter": "python",
   "pygments_lexer": "ipython3",
   "version": "3.10.12"
  }
 },
 "nbformat": 4,
 "nbformat_minor": 2
}
