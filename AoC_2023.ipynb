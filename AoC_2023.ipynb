{
 "cells": [
  {
   "cell_type": "markdown",
   "metadata": {},
   "source": []
  },
  {
   "cell_type": "markdown",
   "metadata": {},
   "source": [
    "--- \n",
    "\n",
    "## Day 1: Trebuchet?! \n",
    "\n",
    "---\n",
    "\n",
    "Something is wrong with global snow production, and you've been selected to take a look. The Elves have even given you a map; on it, they've used stars to mark the top fifty locations that are likely to be having problems.\n",
    "\n",
    "You've been doing this long enough to know that to restore snow operations, you need to check all fifty stars by December 25th.\n",
    "\n",
    "Collect stars by solving puzzles. Two puzzles will be made available on each day in the Advent calendar; the second puzzle is unlocked when you complete the first. Each puzzle grants one star. Good luck!\n",
    "\n",
    "You try to ask why they can't just use a weather machine (\"not powerful enough\") and where they're even sending you (\"the sky\") and why your map looks mostly blank (\"you sure ask a lot of questions\") and hang on did you just say the sky (\"of course, where do you think snow comes from\") when you realize that the Elves are already loading you into a trebuchet (\"please hold still, we need to strap you in\").\n",
    "\n",
    "As they're making the final adjustments, they discover that their calibration document (your puzzle input) has been amended by a very young Elf who was apparently just excited to show off her art skills. Consequently, the Elves are having trouble reading the values on the document.\n",
    "\n",
    "The newly-improved calibration document consists of lines of text; each line originally contained a specific calibration value that the Elves now need to recover. On each line, the calibration value can be found by combining the first digit and the last digit (in that order) to form a single two-digit number.\n",
    "\n",
    "For example:\n",
    "```\n",
    "1abc2\n",
    "pqr3stu8vwx\n",
    "a1b2c3d4e5f\n",
    "treb7uchet\n",
    "```\n",
    "\n",
    "In this example, the calibration values of these four lines are `12`, `38`, `15`, and `77`. Adding these together produces 142.\n",
    "\n",
    "Consider your entire calibration document. What is the sum of all of the calibration values?\n",
    "\n",
    "To begin, get your puzzle input.\n",
    "\n",
    "Answer: \n",
    " "
   ]
  },
  {
   "cell_type": "code",
   "execution_count": 165,
   "metadata": {},
   "outputs": [],
   "source": [
    "import pandas as pd\n",
    "\n",
    "gold_stars = 0\n"
   ]
  },
  {
   "cell_type": "code",
   "execution_count": 166,
   "metadata": {},
   "outputs": [
    {
     "data": {
      "text/html": [
       "<div>\n",
       "<style scoped>\n",
       "    .dataframe tbody tr th:only-of-type {\n",
       "        vertical-align: middle;\n",
       "    }\n",
       "\n",
       "    .dataframe tbody tr th {\n",
       "        vertical-align: top;\n",
       "    }\n",
       "\n",
       "    .dataframe thead th {\n",
       "        text-align: right;\n",
       "    }\n",
       "</style>\n",
       "<table border=\"1\" class=\"dataframe\">\n",
       "  <thead>\n",
       "    <tr style=\"text-align: right;\">\n",
       "      <th></th>\n",
       "      <th>elf_art</th>\n",
       "    </tr>\n",
       "  </thead>\n",
       "  <tbody>\n",
       "    <tr>\n",
       "      <th>0</th>\n",
       "      <td>fivepqxlpninevh2xxsnsgg63pbvdnqptmg</td>\n",
       "    </tr>\n",
       "    <tr>\n",
       "      <th>1</th>\n",
       "      <td>eight8zlctbmsixhrvbpjb84nnmlcqkzrsix</td>\n",
       "    </tr>\n",
       "    <tr>\n",
       "      <th>2</th>\n",
       "      <td>hkxqfrqmsixfplbkpkdfzzszjxmdjtdkjlprrvr3gghlrq...</td>\n",
       "    </tr>\n",
       "    <tr>\n",
       "      <th>3</th>\n",
       "      <td>zkjkctxvssix1dqb22five</td>\n",
       "    </tr>\n",
       "    <tr>\n",
       "      <th>4</th>\n",
       "      <td>4dtlmkfnm</td>\n",
       "    </tr>\n",
       "  </tbody>\n",
       "</table>\n",
       "</div>"
      ],
      "text/plain": [
       "                                             elf_art\n",
       "0                fivepqxlpninevh2xxsnsgg63pbvdnqptmg\n",
       "1               eight8zlctbmsixhrvbpjb84nnmlcqkzrsix\n",
       "2  hkxqfrqmsixfplbkpkdfzzszjxmdjtdkjlprrvr3gghlrq...\n",
       "3                             zkjkctxvssix1dqb22five\n",
       "4                                          4dtlmkfnm"
      ]
     },
     "execution_count": 166,
     "metadata": {},
     "output_type": "execute_result"
    }
   ],
   "source": [
    "calibration_document = pd.read_csv('./data/Day1.csv', header=0)\n",
    "\n",
    "cd = calibration_document.copy()\n",
    "cd.head()\n"
   ]
  },
  {
   "cell_type": "code",
   "execution_count": 182,
   "metadata": {},
   "outputs": [],
   "source": [
    "def calibration_values(value):\n",
    "  cal_nums = []\n",
    "  [cal_nums.append(i) for i in value if i.isnumeric()]\n",
    "  answer = int(cal_nums[0]+cal_nums[-1]) if len(cal_nums) !=0 else 0\n",
    "  return answer\n",
    "  # return int(cal_nums[0]+cal_nums[-1])\n",
    "\n",
    "def sum_calibration_values(series):\n",
    "  cal_vals = []\n",
    "  [cal_vals.append(calibration_values(num)) for num in series]\n",
    "  return sum(cal_vals)\n",
    "\n"
   ]
  },
  {
   "cell_type": "code",
   "execution_count": 183,
   "metadata": {},
   "outputs": [
    {
     "data": {
      "text/plain": [
       "196"
      ]
     },
     "execution_count": 183,
     "metadata": {},
     "output_type": "execute_result"
    }
   ],
   "source": [
    "test = cd['elf_art'][:5].copy()\n",
    "sum_calibration_values(test)\n"
   ]
  },
  {
   "cell_type": "code",
   "execution_count": 184,
   "metadata": {},
   "outputs": [
    {
     "data": {
      "text/plain": [
       "142"
      ]
     },
     "execution_count": 184,
     "metadata": {},
     "output_type": "execute_result"
    }
   ],
   "source": [
    "test = ['1abc2', 'pqr3stu8vwx', 'a1b2c3d4e5f', 'treb7uchet']\n",
    "sum_calibration_values(test)\n"
   ]
  },
  {
   "cell_type": "code",
   "execution_count": 185,
   "metadata": {},
   "outputs": [
    {
     "data": {
      "text/plain": [
       "53651"
      ]
     },
     "execution_count": 185,
     "metadata": {},
     "output_type": "execute_result"
    }
   ],
   "source": [
    "sum_calibration_values(cd['elf_art'])\n"
   ]
  },
  {
   "cell_type": "markdown",
   "metadata": {},
   "source": [
    "Your puzzle answer was `53651`.\n",
    "\n",
    "The first half of this puzzle is complete! It provides one gold star: *\n"
   ]
  },
  {
   "cell_type": "code",
   "execution_count": 171,
   "metadata": {},
   "outputs": [],
   "source": [
    "def score_check():\n",
    "  print(\"__you pull the map provided by the elves from your pocket to mark the current location as resolved.__\")\n",
    "  print(\"Upon determining the next destination to investigate, you note the current tally of gold stars collected is: \")\n",
    "  return gold_stars + 1\n"
   ]
  },
  {
   "cell_type": "code",
   "execution_count": 172,
   "metadata": {},
   "outputs": [
    {
     "name": "stdout",
     "output_type": "stream",
     "text": [
      "__you pull the map provided by the elves from your pocket to mark the current location as resolved.__\n",
      "Upon determining the next destination to investigate, you note the current tally of gold stars collected is: \n"
     ]
    },
    {
     "data": {
      "text/plain": [
       "1"
      ]
     },
     "execution_count": 172,
     "metadata": {},
     "output_type": "execute_result"
    }
   ],
   "source": [
    "score_check()\n"
   ]
  },
  {
   "cell_type": "markdown",
   "metadata": {},
   "source": [
    "\n",
    "---- \n",
    "### Part Two \n",
    "----\n",
    "\n",
    "Your calculation isn't quite right. It looks like some of the digits are actually spelled out with letters: one, two, three, four, five, six, seven, eight, and nine also count as valid \"digits\".\n",
    "\n",
    "Equipped with this new information, you now need to find the real first and last digit on each line. For example:\n",
    "```\n",
    "two1nine\n",
    "eightwothree\n",
    "abcone2threexyz\n",
    "xtwone3four\n",
    "4nineeightseven2\n",
    "zoneight234\n",
    "7pqrstsixteen\n",
    "```\n",
    "\n",
    "In this example, the calibration values are `29`, `83`, `13`, `24`, `42`, `14`, and `76`. Adding these together produces `281`.\n",
    "\n",
    "What is the sum of all of the calibration values?\n",
    "\n",
    "Answer:"
   ]
  },
  {
   "cell_type": "code",
   "execution_count": 173,
   "metadata": {},
   "outputs": [],
   "source": [
    "num_dict = {\n",
    "  'one': 1,\n",
    "  'two': 2,\n",
    "  'three': 3,\n",
    "  'four': 4,\n",
    "  'five': 5,\n",
    "  'six': 6,\n",
    "  'seven': 7,\n",
    "  'eight': 8,\n",
    "  'nine': 9\n",
    "}\n"
   ]
  },
  {
   "cell_type": "code",
   "execution_count": 174,
   "metadata": {},
   "outputs": [
    {
     "data": {
      "text/plain": [
       "['one', 'two', 'three', 'four', 'five', 'six', 'seven', 'eight', 'nine']"
      ]
     },
     "execution_count": 174,
     "metadata": {},
     "output_type": "execute_result"
    }
   ],
   "source": [
    "text_nums = list(num_dict.keys())\n",
    "text_nums\n"
   ]
  },
  {
   "cell_type": "code",
   "execution_count": 175,
   "metadata": {},
   "outputs": [],
   "source": [
    "def validate_text_nums(value):\n",
    "  for i in list(num_dict.keys()):\n",
    "    if i in value:\n",
    "      value=value.replace(i, str(num_dict[i]))\n",
    "    else:\n",
    "      None\n",
    "  return value\n"
   ]
  },
  {
   "cell_type": "code",
   "execution_count": 186,
   "metadata": {},
   "outputs": [],
   "source": [
    "test = ['two1nine', 'eightwothree', 'abcone2threexyz', 'xtwone3four', '4nineeightseven2', 'zoneight234', '7pqrstsixteen']\n"
   ]
  },
  {
   "cell_type": "code",
   "execution_count": 189,
   "metadata": {},
   "outputs": [
    {
     "name": "stdout",
     "output_type": "stream",
     "text": [
      "two1nine ==> 11\n",
      "219 ==> 29\n",
      "\n",
      "eightwothree ==> 0\n",
      "eigh23 ==> 23\n",
      "\n",
      "abcone2threexyz ==> 22\n",
      "abc123xyz ==> 13\n",
      "\n",
      "xtwone3four ==> 33\n",
      "xtw134 ==> 14\n",
      "\n",
      "4nineeightseven2 ==> 42\n",
      "49872 ==> 42\n",
      "\n",
      "zoneight234 ==> 24\n",
      "z1ight234 ==> 14\n",
      "\n",
      "7pqrstsixteen ==> 77\n",
      "7pqrst6teen ==> 76\n",
      "\n"
     ]
    }
   ],
   "source": [
    "for i in test:\n",
    "  print(f'{i} ==> {calibration_values(i)}')\n",
    "  print(f'{validate_text_nums(i)} ==> {calibration_values(validate_text_nums(i))}')\n",
    "  print()\n"
   ]
  },
  {
   "cell_type": "code",
   "execution_count": 179,
   "metadata": {},
   "outputs": [
    {
     "name": "stdout",
     "output_type": "stream",
     "text": [
      "Expected value: 281\n"
     ]
    },
    {
     "data": {
      "text/plain": [
       "211"
      ]
     },
     "execution_count": 179,
     "metadata": {},
     "output_type": "execute_result"
    }
   ],
   "source": [
    "print('Expected value: 281')\n",
    "sum_calibration_values(test)\n"
   ]
  },
  {
   "cell_type": "code",
   "execution_count": 177,
   "metadata": {},
   "outputs": [
    {
     "data": {
      "text/plain": [
       "'41114'"
      ]
     },
     "execution_count": 177,
     "metadata": {},
     "output_type": "execute_result"
    }
   ],
   "source": [
    "validate_text_nums('4oneone14')\n"
   ]
  },
  {
   "cell_type": "code",
   "execution_count": 178,
   "metadata": {},
   "outputs": [],
   "source": [
    "test = [validate_text_nums(i) for i in test]\n"
   ]
  },
  {
   "cell_type": "code",
   "execution_count": 150,
   "metadata": {},
   "outputs": [
    {
     "data": {
      "text/html": [
       "<div>\n",
       "<style scoped>\n",
       "    .dataframe tbody tr th:only-of-type {\n",
       "        vertical-align: middle;\n",
       "    }\n",
       "\n",
       "    .dataframe tbody tr th {\n",
       "        vertical-align: top;\n",
       "    }\n",
       "\n",
       "    .dataframe thead th {\n",
       "        text-align: right;\n",
       "    }\n",
       "</style>\n",
       "<table border=\"1\" class=\"dataframe\">\n",
       "  <thead>\n",
       "    <tr style=\"text-align: right;\">\n",
       "      <th></th>\n",
       "      <th>elf_art</th>\n",
       "      <th>num_art</th>\n",
       "    </tr>\n",
       "  </thead>\n",
       "  <tbody>\n",
       "    <tr>\n",
       "      <th>0</th>\n",
       "      <td>fivepqxlpninevh2xxsnsgg63pbvdnqptmg</td>\n",
       "      <td>5pqxlp9vh2xxsnsgg63pbvdnqptmg</td>\n",
       "    </tr>\n",
       "    <tr>\n",
       "      <th>1</th>\n",
       "      <td>eight8zlctbmsixhrvbpjb84nnmlcqkzrsix</td>\n",
       "      <td>88zlctbm6hrvbpjb84nnmlcqkzr6</td>\n",
       "    </tr>\n",
       "    <tr>\n",
       "      <th>2</th>\n",
       "      <td>hkxqfrqmsixfplbkpkdfzzszjxmdjtdkjlprrvr3gghlrq...</td>\n",
       "      <td>hkxqfrqm6fplbkpkdfzzszjxmdjtdkjlprrvr3gghlrqck...</td>\n",
       "    </tr>\n",
       "    <tr>\n",
       "      <th>3</th>\n",
       "      <td>zkjkctxvssix1dqb22five</td>\n",
       "      <td>zkjkctxvs61dqb225</td>\n",
       "    </tr>\n",
       "    <tr>\n",
       "      <th>4</th>\n",
       "      <td>4dtlmkfnm</td>\n",
       "      <td>4dtlmkfnm</td>\n",
       "    </tr>\n",
       "  </tbody>\n",
       "</table>\n",
       "</div>"
      ],
      "text/plain": [
       "                                             elf_art  \\\n",
       "0                fivepqxlpninevh2xxsnsgg63pbvdnqptmg   \n",
       "1               eight8zlctbmsixhrvbpjb84nnmlcqkzrsix   \n",
       "2  hkxqfrqmsixfplbkpkdfzzszjxmdjtdkjlprrvr3gghlrq...   \n",
       "3                             zkjkctxvssix1dqb22five   \n",
       "4                                          4dtlmkfnm   \n",
       "\n",
       "                                             num_art  \n",
       "0                      5pqxlp9vh2xxsnsgg63pbvdnqptmg  \n",
       "1                       88zlctbm6hrvbpjb84nnmlcqkzr6  \n",
       "2  hkxqfrqm6fplbkpkdfzzszjxmdjtdkjlprrvr3gghlrqck...  \n",
       "3                                  zkjkctxvs61dqb225  \n",
       "4                                          4dtlmkfnm  "
      ]
     },
     "execution_count": 150,
     "metadata": {},
     "output_type": "execute_result"
    }
   ],
   "source": [
    "cd['cal_num'] = cd['elf_art'].apply(lambda x: validate_text_nums(x))\n",
    "cd['num_art'] = cd['elf_art'].apply(lambda x: validate_text_nums(x))\n",
    "\n",
    "cd.head()\n"
   ]
  },
  {
   "cell_type": "code",
   "execution_count": 151,
   "metadata": {},
   "outputs": [
    {
     "data": {
      "text/plain": [
       "53148"
      ]
     },
     "execution_count": 151,
     "metadata": {},
     "output_type": "execute_result"
    }
   ],
   "source": [
    "sum_calibration_values(cd['num_art'])\n"
   ]
  },
  {
   "cell_type": "code",
   "execution_count": 139,
   "metadata": {},
   "outputs": [],
   "source": [
    "elf_art_nums_decoded = [validate_text_nums(i) for i in cd['elf_art']]\n"
   ]
  },
  {
   "cell_type": "code",
   "execution_count": 140,
   "metadata": {},
   "outputs": [
    {
     "data": {
      "text/plain": [
       "53148"
      ]
     },
     "execution_count": 140,
     "metadata": {},
     "output_type": "execute_result"
    }
   ],
   "source": [
    "sum_calibration_values(elf_art_nums_decoded)\n"
   ]
  },
  {
   "cell_type": "code",
   "execution_count": 133,
   "metadata": {},
   "outputs": [
    {
     "data": {
      "text/plain": [
       "'219'"
      ]
     },
     "execution_count": 133,
     "metadata": {},
     "output_type": "execute_result"
    }
   ],
   "source": [
    "s\n"
   ]
  },
  {
   "cell_type": "code",
   "execution_count": 98,
   "metadata": {},
   "outputs": [
    {
     "ename": "TypeError",
     "evalue": "replace() argument 1 must be str, not dict_keys",
     "output_type": "error",
     "traceback": [
      "\u001b[0;31m---------------------------------------------------------------------------\u001b[0m",
      "\u001b[0;31mTypeError\u001b[0m                                 Traceback (most recent call last)",
      "\u001b[1;32m/Users/jdormaar/Projects/Advent_of_code_fun_2023/Advent_of_code_fun_2023/AoC_2023.ipynb Cell 17\u001b[0m line \u001b[0;36m1\n\u001b[0;32m----> <a href='vscode-notebook-cell:/Users/jdormaar/Projects/Advent_of_code_fun_2023/Advent_of_code_fun_2023/AoC_2023.ipynb#X26sZmlsZQ%3D%3D?line=0'>1</a>\u001b[0m s\u001b[39m.\u001b[39;49mreplace(num_dict\u001b[39m.\u001b[39;49mkeys(), num_dict\u001b[39m.\u001b[39;49mvalues())\n",
      "\u001b[0;31mTypeError\u001b[0m: replace() argument 1 must be str, not dict_keys"
     ]
    }
   ],
   "source": [
    "s.replace(num_dict.keys(), num_dict.values())\n"
   ]
  },
  {
   "cell_type": "code",
   "execution_count": null,
   "metadata": {},
   "outputs": [],
   "source": [
    "def calibration_values(value):\n",
    "  cal_nums = []\n",
    "  [cal_nums.append(i) for i in value if i.isnumeric()]\n",
    "  return int(cal_nums[0]+cal_nums[-1])\n",
    "\n",
    "def sum_calibration_values(series):\n",
    "  cal_vals = []\n",
    "  [cal_vals.append(calibration_values(num)) for num in series]\n",
    "  return sum(cal_vals)\n",
    "\n"
   ]
  }
 ],
 "metadata": {
  "kernelspec": {
   "display_name": "base_env",
   "language": "python",
   "name": "base_env"
  },
  "language_info": {
   "codemirror_mode": {
    "name": "ipython",
    "version": 3
   },
   "file_extension": ".py",
   "mimetype": "text/x-python",
   "name": "python",
   "nbconvert_exporter": "python",
   "pygments_lexer": "ipython3",
   "version": "3.10.12"
  }
 },
 "nbformat": 4,
 "nbformat_minor": 2
}
