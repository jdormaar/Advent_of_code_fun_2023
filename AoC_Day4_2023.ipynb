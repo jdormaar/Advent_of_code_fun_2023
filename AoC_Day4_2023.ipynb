{
 "cells": [
  {
   "cell_type": "markdown",
   "metadata": {},
   "source": [
    "<h1 \n",
    "  style=\"color:#207d06; border-bottom: 3px solid #207d06;\"\n",
    "</h1>\n",
    "<h1 \n",
    "  style=\"color:#165b33; border-bottom: 3px solid #165b33;\"\n",
    "</h1>\n",
    "<h1 \n",
    "  style=\"color:#146b3a; border-bottom: 3px solid #146b3a;\"\n",
    "</h1>\n",
    "<h1 \n",
    "  style=\"color:#f8b229; border-bottom: 3px solid #f8b229;\"\n",
    "</h1>\n",
    "<h1 \n",
    "  style=\"color:#ea4630; border-bottom: 3px solid #ea4630;\"\n",
    "</h1>\n",
    "<h1 \n",
    "  style=\"color:#bb2528; border-bottom: 3px solid #bb2528;\"\n",
    "</h1>\n",
    "<h1 \n",
    "  style=\"color:#4974a5; border-bottom: 3px solid #bb2528;\"\n",
    ">\n",
    "  --- Day 4: Scratchcards --- Island Island\n",
    "</h1>\n"
   ]
  },
  {
   "cell_type": "markdown",
   "metadata": {},
   "source": [
    "<h2 \n",
    "  style=\"color:#207d06; border-bottom: 3px solid #f8b229; border-top: 3px solid #ea4630;\"\n",
    ">\n",
    "  Part One\n",
    "</h2>"
   ]
  },
  {
   "cell_type": "markdown",
   "metadata": {},
   "source": [
    "\n",
    "The gondola takes you up. Strangely, though, the ground doesn't seem to be coming with you; you're not climbing a mountain. As the circle of Snow Island recedes below you, an entire new landmass suddenly appears above you! The gondola carries you to the surface of the new island and lurches into the station.\n",
    "\n",
    "As you exit the gondola, the first thing you notice is that the air here is much **warmer** than it was on Snow Island. It's also quite **humid**. Is this where the water source is?\n",
    "\n",
    "The next thing you notice is an Elf sitting on the floor across the station in what seems to be a pile of colorful square cards.\n",
    "\n",
    "\"Oh! Hello!\" The Elf excitedly runs over to you. \"How may I be of service?\" You ask about water sources.\n",
    "\n",
    "\"I'm not sure; I just operate the gondola lift. That does sound like something we'd have, though - this is **Island Island**, after all! I bet the **gardener** would know. He's on a different island, though - er, the small kind surrounded by water, not the floating kind. We really need to come up with a better naming scheme. Tell you what: if you can help me with something quick, I'll let you **borrow my boat** and you can go visit the gardener. I got all these [scratchcards](https://en.wikipedia.org/wiki/Scratchcard) as a gift, but I can't figure out what I've won.\"\n",
    "\n",
    "The Elf leads you over to the pile of colorful cards. There, you discover dozens of scratchcards, all with their opaque covering already scratched off. Picking one up, it looks like each card has two lists of numbers separated by a vertical bar (`|`): a list of **winning numbers** and then a list of **numbers you have**. You organize the information into a table (your puzzle input).\n",
    "\n",
    "As far as the Elf has been able to figure out, you have to figure out which of the **numbers you have** appear in the list of **winning numbers**. The first match makes the card worth **one point** and each match after the first **doubles** the point value of that card.\n",
    "\n",
    "For example:\n",
    "```\n",
    "Card 1: 41 48 83 86 17 | 83 86  6 31 17  9 48 53\n",
    "Card 2: 13 32 20 16 61 | 61 30 68 82 17 32 24 19\n",
    "Card 3:  1 21 53 59 44 | 69 82 63 72 16 21 14  1\n",
    "Card 4: 41 92 73 84 69 | 59 84 76 51 58  5 54 83\n",
    "Card 5: 87 83 26 28 32 | 88 30 70 12 93 22 82 36\n",
    "Card 6: 31 18 13 56 72 | 74 77 10 23 35 67 36 11\n",
    "```\n",
    "\n",
    "In the above example, card 1 has five winning numbers (`41`, `48`, `83`, `86`, and `17`) and eight numbers you have (`83`, `86`, `6`, `31`, `17`, `9`, `48`, and `53`). Of the numbers you have, four of them (`48`, `83`, `17`, and `86`) are winning numbers! That means `card 1` is worth `8` points (1 for the first match, then doubled three times for each of the three matches after the first).\n",
    "\n",
    " - Card 2 has two winning numbers (`32` and `61`), so it is worth `2 points`.\n",
    " - Card 3 has two winning numbers (`1` and `21`), so it is worth `2 points`.\n",
    " - Card 4 has one winning number (`84`), so it is worth `1 point`.\n",
    " - Card 5 has no winning numbers, so it is worth `no points`.\n",
    " - Card 6 has no winning numbers, so it is worth `no points`.\n",
    "\n",
    "So, in this example, the Elf's pile of scratchcards is worth `13 points`.\n",
    "\n",
    "\n",
    "\n",
    "\n",
    "<h5 \n",
    "  style=\"color:#8fca6b; border-bottom: 1px solid #f8b229; border-top: 1px solid #f8b229;\"\n",
    ">\n",
    "  Take a seat in the large pile of colorful cards. How many points are they worth in total?\n",
    "</h5>\n",
    "\n",
    "To begin, get your [puzzle input](https://adventofcode.com/2023/day/4/input).\n",
    "\n",
    "Answer:\n",
    " "
   ]
  },
  {
   "cell_type": "code",
   "execution_count": null,
   "metadata": {},
   "outputs": [],
   "source": []
  },
  {
   "cell_type": "code",
   "execution_count": null,
   "metadata": {},
   "outputs": [],
   "source": []
  },
  {
   "cell_type": "code",
   "execution_count": null,
   "metadata": {},
   "outputs": [],
   "source": []
  },
  {
   "cell_type": "code",
   "execution_count": null,
   "metadata": {},
   "outputs": [],
   "source": []
  },
  {
   "cell_type": "markdown",
   "metadata": {},
   "source": [
    "Your puzzle answer was `2076`.\n",
    "\n",
    "The first half of this puzzle is complete! It provides one gold star: *\n"
   ]
  },
  {
   "cell_type": "markdown",
   "metadata": {},
   "source": [
    "<h2 \n",
    "  style=\"color:#207d06; border-bottom: 3px solid #f8b229; border-top: 3px solid #ea4630;\"\n",
    ">\n",
    "  Part Two\n",
    "</h2>"
   ]
  },
  {
   "cell_type": "markdown",
   "metadata": {},
   "source": [
    "\n",
    "The Elf says they've stopped producing snow because they aren't getting any water! He isn't sure why the water stopped; however, he can show you how to get to the water source to check it out for yourself. It's just up ahead!\n",
    "\n",
    "As you continue your walk, the Elf poses a second question: in each game you played, what is the fewest number of cubes of each color that could have been in the bag to make the game possible?\n",
    "\n",
    "Again consider the example games from earlier:\n",
    "\n",
    "Game 1: 3 blue, 4 red; 1 red, 2 green, 6 blue; 2 green\n",
    "Game 2: 1 blue, 2 green; 3 green, 4 blue, 1 red; 1 green, 1 blue\n",
    "Game 3: 8 green, 6 blue, 20 red; 5 blue, 4 red, 13 green; 5 green, 1 red\n",
    "Game 4: 1 green, 3 red, 6 blue; 3 green, 6 red; 3 green, 15 blue, 14 red\n",
    "Game 5: 6 red, 1 blue, 3 green; 2 blue, 1 red, 2 green\n",
    "In game 1, the game could have been played with as few as 4 red, 2 green, and 6 blue cubes. If any color had even one fewer cube, the game would have been impossible.\n",
    "Game 2 could have been played with a minimum of 1 red, 3 green, and 4 blue cubes.\n",
    "Game 3 must have been played with at least 20 red, 13 green, and 6 blue cubes.\n",
    "Game 4 required at least 14 red, 3 green, and 15 blue cubes.\n",
    "Game 5 needed no fewer than 6 red, 3 green, and 2 blue cubes in the bag.\n",
    "The power of a set of cubes is equal to the numbers of red, green, and blue cubes multiplied together. The power of the minimum set of cubes in game 1 is 48. In games 2-5 it was 12, 1560, 630, and 36, respectively. Adding up these five powers produces the sum 2286.\n",
    "\n",
    "For each game, find the minimum set of cubes that must have been present. What is the sum of the power of these sets?\n",
    "\n",
    "Answer:"
   ]
  },
  {
   "cell_type": "markdown",
   "metadata": {},
   "source": [
    "<h5 style=\"text-align:right; padding-right: 10%;\">\n",
    "  <a href=\"#title\">Top Of Page</a>\n",
    "</h5>"
   ]
  },
  {
   "cell_type": "code",
   "execution_count": 236,
   "metadata": {},
   "outputs": [
    {
     "data": {
      "text/html": [
       "<div>\n",
       "<style scoped>\n",
       "    .dataframe tbody tr th:only-of-type {\n",
       "        vertical-align: middle;\n",
       "    }\n",
       "\n",
       "    .dataframe tbody tr th {\n",
       "        vertical-align: top;\n",
       "    }\n",
       "\n",
       "    .dataframe thead th {\n",
       "        text-align: right;\n",
       "    }\n",
       "</style>\n",
       "<table border=\"1\" class=\"dataframe\">\n",
       "  <thead>\n",
       "    <tr style=\"text-align: right;\">\n",
       "      <th></th>\n",
       "      <th>game</th>\n",
       "      <th>game_sets</th>\n",
       "      <th>max_game_cubes</th>\n",
       "      <th>red</th>\n",
       "      <th>green</th>\n",
       "      <th>blue</th>\n",
       "      <th>power</th>\n",
       "    </tr>\n",
       "  </thead>\n",
       "  <tbody>\n",
       "    <tr>\n",
       "      <th>0</th>\n",
       "      <td>1</td>\n",
       "      <td>2 green, 6 blue, 7 red; 12 green, 6 blue, 3 r...</td>\n",
       "      <td>{'red': 7, 'green': 18, 'blue': 6}</td>\n",
       "      <td>7</td>\n",
       "      <td>18</td>\n",
       "      <td>6</td>\n",
       "      <td>756</td>\n",
       "    </tr>\n",
       "    <tr>\n",
       "      <th>1</th>\n",
       "      <td>2</td>\n",
       "      <td>10 green, 4 red; 2 red; 12 green, 11 red, 1 b...</td>\n",
       "      <td>{'red': 11, 'green': 12, 'blue': 1}</td>\n",
       "      <td>11</td>\n",
       "      <td>12</td>\n",
       "      <td>1</td>\n",
       "      <td>132</td>\n",
       "    </tr>\n",
       "    <tr>\n",
       "      <th>2</th>\n",
       "      <td>3</td>\n",
       "      <td>3 green; 15 red, 7 blue, 1 green; 3 red, 6 bl...</td>\n",
       "      <td>{'red': 16, 'green': 3, 'blue': 14}</td>\n",
       "      <td>16</td>\n",
       "      <td>3</td>\n",
       "      <td>14</td>\n",
       "      <td>672</td>\n",
       "    </tr>\n",
       "    <tr>\n",
       "      <th>3</th>\n",
       "      <td>4</td>\n",
       "      <td>5 blue; 8 blue, 7 red; 9 blue, 5 red, 4 green...</td>\n",
       "      <td>{'red': 8, 'green': 4, 'blue': 9}</td>\n",
       "      <td>8</td>\n",
       "      <td>4</td>\n",
       "      <td>9</td>\n",
       "      <td>288</td>\n",
       "    </tr>\n",
       "    <tr>\n",
       "      <th>4</th>\n",
       "      <td>5</td>\n",
       "      <td>3 blue, 4 red, 10 green; 13 green, 8 blue, 2 ...</td>\n",
       "      <td>{'red': 4, 'green': 13, 'blue': 13}</td>\n",
       "      <td>4</td>\n",
       "      <td>13</td>\n",
       "      <td>13</td>\n",
       "      <td>676</td>\n",
       "    </tr>\n",
       "  </tbody>\n",
       "</table>\n",
       "</div>"
      ],
      "text/plain": [
       "   game                                          game_sets  \\\n",
       "0     1   2 green, 6 blue, 7 red; 12 green, 6 blue, 3 r...   \n",
       "1     2   10 green, 4 red; 2 red; 12 green, 11 red, 1 b...   \n",
       "2     3   3 green; 15 red, 7 blue, 1 green; 3 red, 6 bl...   \n",
       "3     4   5 blue; 8 blue, 7 red; 9 blue, 5 red, 4 green...   \n",
       "4     5   3 blue, 4 red, 10 green; 13 green, 8 blue, 2 ...   \n",
       "\n",
       "                        max_game_cubes  red  green  blue  power  \n",
       "0   {'red': 7, 'green': 18, 'blue': 6}    7     18     6    756  \n",
       "1  {'red': 11, 'green': 12, 'blue': 1}   11     12     1    132  \n",
       "2  {'red': 16, 'green': 3, 'blue': 14}   16      3    14    672  \n",
       "3    {'red': 8, 'green': 4, 'blue': 9}    8      4     9    288  \n",
       "4  {'red': 4, 'green': 13, 'blue': 13}    4     13    13    676  "
      ]
     },
     "execution_count": 236,
     "metadata": {},
     "output_type": "execute_result"
    }
   ],
   "source": [
    "df['power'] = df['red']*df['green']*df['blue']\n",
    "df.head()\n"
   ]
  },
  {
   "cell_type": "code",
   "execution_count": 237,
   "metadata": {},
   "outputs": [
    {
     "data": {
      "text/plain": [
       "70950"
      ]
     },
     "execution_count": 237,
     "metadata": {},
     "output_type": "execute_result"
    }
   ],
   "source": [
    "df['power'].sum()\n"
   ]
  },
  {
   "cell_type": "code",
   "execution_count": null,
   "metadata": {},
   "outputs": [],
   "source": []
  }
 ],
 "metadata": {
  "kernelspec": {
   "display_name": "base_env",
   "language": "python",
   "name": "base_env"
  },
  "language_info": {
   "codemirror_mode": {
    "name": "ipython",
    "version": 3
   },
   "file_extension": ".py",
   "mimetype": "text/x-python",
   "name": "python",
   "nbconvert_exporter": "python",
   "pygments_lexer": "ipython3",
   "version": "3.10.12"
  }
 },
 "nbformat": 4,
 "nbformat_minor": 2
}
