{
 "cells": [
  {
   "cell_type": "markdown",
   "metadata": {},
   "source": [
    "<h1 \n",
    "  style=\"color:#207d06; border-bottom: 3px solid #207d06;\"\n",
    "</h1>\n",
    "<h1 \n",
    "  style=\"color:#165b33; border-bottom: 3px solid #165b33;\"\n",
    "</h1>\n",
    "<h1 \n",
    "  style=\"color:#146b3a; border-bottom: 3px solid #146b3a;\"\n",
    "</h1>\n",
    "<h1 \n",
    "  style=\"color:#f8b229; border-bottom: 3px solid #f8b229;\"\n",
    "</h1>\n",
    "<h1 \n",
    "  style=\"color:#ea4630; border-bottom: 3px solid #ea4630;\"\n",
    "</h1>\n",
    "<h1 \n",
    "  style=\"color:#bb2528; border-bottom: 3px solid #bb2528;\"\n",
    "</h1>\n",
    "<h1 \n",
    "  style=\"color:#4974a5; border-bottom: 3px solid #bb2528;\"\n",
    ">\n",
    "  --- Day 4: Scratchcards --- Island Island\n",
    "</h1>\n"
   ]
  },
  {
   "cell_type": "markdown",
   "metadata": {},
   "source": [
    "<h2 \n",
    "  style=\"color:#207d06; border-bottom: 3px solid #f8b229; border-top: 3px solid #ea4630;\"\n",
    ">\n",
    "  Part One\n",
    "</h2>"
   ]
  },
  {
   "cell_type": "markdown",
   "metadata": {},
   "source": [
    "\n",
    "The gondola takes you up. Strangely, though, the ground doesn't seem to be coming with you; you're not climbing a mountain. As the circle of Snow Island recedes below you, an entire new landmass suddenly appears above you! The gondola carries you to the surface of the new island and lurches into the station.\n",
    "\n",
    "As you exit the gondola, the first thing you notice is that the air here is much **warmer** than it was on Snow Island. It's also quite **humid**. Is this where the water source is?\n",
    "\n",
    "The next thing you notice is an Elf sitting on the floor across the station in what seems to be a pile of colorful square cards.\n",
    "\n",
    "\"Oh! Hello!\" The Elf excitedly runs over to you. \"How may I be of service?\" You ask about water sources.\n",
    "\n",
    "\"I'm not sure; I just operate the gondola lift. That does sound like something we'd have, though - this is **Island Island**, after all! I bet the **gardener** would know. He's on a different island, though - er, the small kind surrounded by water, not the floating kind. We really need to come up with a better naming scheme. Tell you what: if you can help me with something quick, I'll let you **borrow my boat** and you can go visit the gardener. I got all these [scratchcards](https://en.wikipedia.org/wiki/Scratchcard) as a gift, but I can't figure out what I've won.\"\n",
    "\n",
    "The Elf leads you over to the pile of colorful cards. There, you discover dozens of scratchcards, all with their opaque covering already scratched off. Picking one up, it looks like each card has two lists of numbers separated by a vertical bar (`|`): a list of **winning numbers** and then a list of **numbers you have**. You organize the information into a table (your puzzle input).\n",
    "\n",
    "As far as the Elf has been able to figure out, you have to figure out which of the **numbers you have** appear in the list of **winning numbers**. The first match makes the card worth **one point** and each match after the first **doubles** the point value of that card.\n",
    "\n",
    "For example:\n",
    "```\n",
    "Card 1: 41 48 83 86 17 | 83 86  6 31 17  9 48 53\n",
    "Card 2: 13 32 20 16 61 | 61 30 68 82 17 32 24 19\n",
    "Card 3:  1 21 53 59 44 | 69 82 63 72 16 21 14  1\n",
    "Card 4: 41 92 73 84 69 | 59 84 76 51 58  5 54 83\n",
    "Card 5: 87 83 26 28 32 | 88 30 70 12 93 22 82 36\n",
    "Card 6: 31 18 13 56 72 | 74 77 10 23 35 67 36 11\n",
    "```\n",
    "\n",
    "In the above example, card 1 has five winning numbers (`41`, `48`, `83`, `86`, and `17`) and eight numbers you have (`83`, `86`, `6`, `31`, `17`, `9`, `48`, and `53`). Of the numbers you have, four of them (`48`, `83`, `17`, and `86`) are winning numbers! That means `card 1` is worth `8` points (1 for the first match, then doubled three times for each of the three matches after the first).\n",
    "\n",
    " - Card 2 has two winning numbers (`32` and `61`), so it is worth `2 points`.\n",
    " - Card 3 has two winning numbers (`1` and `21`), so it is worth `2 points`.\n",
    " - Card 4 has one winning number (`84`), so it is worth `1 point`.\n",
    " - Card 5 has no winning numbers, so it is worth `no points`.\n",
    " - Card 6 has no winning numbers, so it is worth `no points`.\n",
    "\n",
    "So, in this example, the Elf's pile of scratchcards is worth `13 points`.\n",
    "\n",
    "\n",
    "\n",
    "\n",
    "<h5 \n",
    "  style=\"color:#8fca6b; border-bottom: 1px solid #f8b229; border-top: 1px solid #f8b229;\"\n",
    ">\n",
    "  Take a seat in the large pile of colorful cards. How many points are they worth in total?\n",
    "</h5>\n",
    "\n",
    "To begin, get your [puzzle input](https://adventofcode.com/2023/day/4/input).\n",
    "\n",
    "Answer:\n",
    " "
   ]
  },
  {
   "cell_type": "code",
   "execution_count": 95,
   "metadata": {},
   "outputs": [
    {
     "data": {
      "text/html": [
       "<div>\n",
       "<style scoped>\n",
       "    .dataframe tbody tr th:only-of-type {\n",
       "        vertical-align: middle;\n",
       "    }\n",
       "\n",
       "    .dataframe tbody tr th {\n",
       "        vertical-align: top;\n",
       "    }\n",
       "\n",
       "    .dataframe thead th {\n",
       "        text-align: right;\n",
       "    }\n",
       "</style>\n",
       "<table border=\"1\" class=\"dataframe\">\n",
       "  <thead>\n",
       "    <tr style=\"text-align: right;\">\n",
       "      <th></th>\n",
       "      <th>card_id</th>\n",
       "      <th>card_nums</th>\n",
       "      <th>winning_nums</th>\n",
       "    </tr>\n",
       "  </thead>\n",
       "  <tbody>\n",
       "    <tr>\n",
       "      <th>0</th>\n",
       "      <td>Card   1</td>\n",
       "      <td>{44, 65, 5, 29, 69, 10, 43, 27, 11, 24}</td>\n",
       "      <td>{66, 43, 38, 14, 9, 10, 6, 89, 87, 22, 18, 34,...</td>\n",
       "    </tr>\n",
       "    <tr>\n",
       "      <th>1</th>\n",
       "      <td>Card   2</td>\n",
       "      <td>{45, 19, 34, 85, 31, 73, 43, 15, 36, 25}</td>\n",
       "      <td>{32, 1, 43, 68, 74, 14, 92, 57, 36, 6, 31, 73,...</td>\n",
       "    </tr>\n",
       "    <tr>\n",
       "      <th>2</th>\n",
       "      <td>Card   3</td>\n",
       "      <td>{4, 59, 19, 46, 23, 42, 98, 57, 18, 75}</td>\n",
       "      <td>{42, 21, 38, 98, 57, 3, 79, 59, 22, 18, 75, 39...</td>\n",
       "    </tr>\n",
       "    <tr>\n",
       "      <th>3</th>\n",
       "      <td>Card   4</td>\n",
       "      <td>{44, 19, 56, 93, 32, 13, 92, 66, 27, 70}</td>\n",
       "      <td>{32, 1, 42, 66, 63, 38, 70, 53, 14, 13, 92, 27...</td>\n",
       "    </tr>\n",
       "    <tr>\n",
       "      <th>4</th>\n",
       "      <td>Card   5</td>\n",
       "      <td>{45, 61, 47, 13, 23, 80, 18, 91, 30, 25}</td>\n",
       "      <td>{46, 29, 60, 58, 55, 68, 2, 61, 74, 13, 12, 88...</td>\n",
       "    </tr>\n",
       "  </tbody>\n",
       "</table>\n",
       "</div>"
      ],
      "text/plain": [
       "    card_id                                 card_nums  \\\n",
       "0  Card   1   {44, 65, 5, 29, 69, 10, 43, 27, 11, 24}   \n",
       "1  Card   2  {45, 19, 34, 85, 31, 73, 43, 15, 36, 25}   \n",
       "2  Card   3   {4, 59, 19, 46, 23, 42, 98, 57, 18, 75}   \n",
       "3  Card   4  {44, 19, 56, 93, 32, 13, 92, 66, 27, 70}   \n",
       "4  Card   5  {45, 61, 47, 13, 23, 80, 18, 91, 30, 25}   \n",
       "\n",
       "                                        winning_nums  \n",
       "0  {66, 43, 38, 14, 9, 10, 6, 89, 87, 22, 18, 34,...  \n",
       "1  {32, 1, 43, 68, 74, 14, 92, 57, 36, 6, 31, 73,...  \n",
       "2  {42, 21, 38, 98, 57, 3, 79, 59, 22, 18, 75, 39...  \n",
       "3  {32, 1, 42, 66, 63, 38, 70, 53, 14, 13, 92, 27...  \n",
       "4  {46, 29, 60, 58, 55, 68, 2, 61, 74, 13, 12, 88...  "
      ]
     },
     "execution_count": 95,
     "metadata": {},
     "output_type": "execute_result"
    }
   ],
   "source": [
    "import pandas as pd\n",
    "\n",
    "df = pd.read_csv('./data/Day4.csv', delimiter=r'[:|]', names=('card_id', 'card_nums', 'winning_nums'), engine='python')\n",
    "\n",
    "def tokenize(text):\n",
    "    # Define a function to split sentences into a list of words\n",
    "    import re\n",
    "    tokens = text.split()\n",
    "    return tokens\n",
    "\n",
    "# Tokenize the number strings into numbers\n",
    "df['card_nums'] = df['card_nums'].apply(lambda x: set(tokenize(x)))\n",
    "df['winning_nums'] = df['winning_nums'].apply(lambda x: set(tokenize(x)))\n",
    "df.head()\n"
   ]
  },
  {
   "cell_type": "code",
   "execution_count": 96,
   "metadata": {},
   "outputs": [],
   "source": [
    "def find_winning_numbers(set_1, set_2):\n",
    "  winning_nums = len(set_1.intersection(set_2))\n",
    "  answer = 2**(winning_nums-1) if winning_nums > 0 else 0\n",
    "  return answer\n",
    "\n",
    "def find_matches(set_1, set_2):\n",
    "  return len(set_1.intersection(set_2))\n"
   ]
  },
  {
   "cell_type": "code",
   "execution_count": 97,
   "metadata": {},
   "outputs": [
    {
     "name": "stdout",
     "output_type": "stream",
     "text": [
      "The total winnings for scratchcards = 21919\n"
     ]
    },
    {
     "data": {
      "text/html": [
       "<div>\n",
       "<style scoped>\n",
       "    .dataframe tbody tr th:only-of-type {\n",
       "        vertical-align: middle;\n",
       "    }\n",
       "\n",
       "    .dataframe tbody tr th {\n",
       "        vertical-align: top;\n",
       "    }\n",
       "\n",
       "    .dataframe thead th {\n",
       "        text-align: right;\n",
       "    }\n",
       "</style>\n",
       "<table border=\"1\" class=\"dataframe\">\n",
       "  <thead>\n",
       "    <tr style=\"text-align: right;\">\n",
       "      <th></th>\n",
       "      <th>card_id</th>\n",
       "      <th>card_nums</th>\n",
       "      <th>winning_nums</th>\n",
       "      <th>matches</th>\n",
       "      <th>card_value</th>\n",
       "    </tr>\n",
       "  </thead>\n",
       "  <tbody>\n",
       "    <tr>\n",
       "      <th>0</th>\n",
       "      <td>Card   1</td>\n",
       "      <td>{44, 65, 5, 29, 69, 10, 43, 27, 11, 24}</td>\n",
       "      <td>{66, 43, 38, 14, 9, 10, 6, 89, 87, 22, 18, 34,...</td>\n",
       "      <td>4</td>\n",
       "      <td>8</td>\n",
       "    </tr>\n",
       "    <tr>\n",
       "      <th>1</th>\n",
       "      <td>Card   2</td>\n",
       "      <td>{45, 19, 34, 85, 31, 73, 43, 15, 36, 25}</td>\n",
       "      <td>{32, 1, 43, 68, 74, 14, 92, 57, 36, 6, 31, 73,...</td>\n",
       "      <td>10</td>\n",
       "      <td>512</td>\n",
       "    </tr>\n",
       "    <tr>\n",
       "      <th>2</th>\n",
       "      <td>Card   3</td>\n",
       "      <td>{4, 59, 19, 46, 23, 42, 98, 57, 18, 75}</td>\n",
       "      <td>{42, 21, 38, 98, 57, 3, 79, 59, 22, 18, 75, 39...</td>\n",
       "      <td>8</td>\n",
       "      <td>128</td>\n",
       "    </tr>\n",
       "    <tr>\n",
       "      <th>3</th>\n",
       "      <td>Card   4</td>\n",
       "      <td>{44, 19, 56, 93, 32, 13, 92, 66, 27, 70}</td>\n",
       "      <td>{32, 1, 42, 66, 63, 38, 70, 53, 14, 13, 92, 27...</td>\n",
       "      <td>10</td>\n",
       "      <td>512</td>\n",
       "    </tr>\n",
       "    <tr>\n",
       "      <th>4</th>\n",
       "      <td>Card   5</td>\n",
       "      <td>{45, 61, 47, 13, 23, 80, 18, 91, 30, 25}</td>\n",
       "      <td>{46, 29, 60, 58, 55, 68, 2, 61, 74, 13, 12, 88...</td>\n",
       "      <td>8</td>\n",
       "      <td>128</td>\n",
       "    </tr>\n",
       "  </tbody>\n",
       "</table>\n",
       "</div>"
      ],
      "text/plain": [
       "    card_id                                 card_nums  \\\n",
       "0  Card   1   {44, 65, 5, 29, 69, 10, 43, 27, 11, 24}   \n",
       "1  Card   2  {45, 19, 34, 85, 31, 73, 43, 15, 36, 25}   \n",
       "2  Card   3   {4, 59, 19, 46, 23, 42, 98, 57, 18, 75}   \n",
       "3  Card   4  {44, 19, 56, 93, 32, 13, 92, 66, 27, 70}   \n",
       "4  Card   5  {45, 61, 47, 13, 23, 80, 18, 91, 30, 25}   \n",
       "\n",
       "                                        winning_nums  matches  card_value  \n",
       "0  {66, 43, 38, 14, 9, 10, 6, 89, 87, 22, 18, 34,...        4           8  \n",
       "1  {32, 1, 43, 68, 74, 14, 92, 57, 36, 6, 31, 73,...       10         512  \n",
       "2  {42, 21, 38, 98, 57, 3, 79, 59, 22, 18, 75, 39...        8         128  \n",
       "3  {32, 1, 42, 66, 63, 38, 70, 53, 14, 13, 92, 27...       10         512  \n",
       "4  {46, 29, 60, 58, 55, 68, 2, 61, 74, 13, 12, 88...        8         128  "
      ]
     },
     "execution_count": 97,
     "metadata": {},
     "output_type": "execute_result"
    }
   ],
   "source": [
    "card_value = []\n",
    "matches = []\n",
    "for i in range(df.shape[0]):\n",
    "  set_1 = df['card_nums'].iloc[i]\n",
    "  set_2 = df['winning_nums'].iloc[i]\n",
    "\n",
    "  card_value.append(find_winning_numbers(set_1, set_2))\n",
    "  matches.append(find_matches(set_1, set_2))\n",
    "\n",
    "df['matches'] = matches\n",
    "df['card_value'] = card_value\n",
    "print(f'The total winnings for scratchcards = {sum(card_value)}')\n",
    "df.head()\n",
    "\n"
   ]
  },
  {
   "cell_type": "code",
   "execution_count": null,
   "metadata": {},
   "outputs": [],
   "source": []
  },
  {
   "cell_type": "markdown",
   "metadata": {},
   "source": [
    "Your puzzle answer was `21919`.\n",
    "\n",
    "\n",
    "<h5 \n",
    "  style=\"color:#f8b229;\"\n",
    ">\n",
    "  The first half of this puzzle is complete! It provides one gold star: *\n",
    "</h5>"
   ]
  },
  {
   "cell_type": "markdown",
   "metadata": {},
   "source": [
    "<h2 \n",
    "  style=\"color:#207d06; border-bottom: 3px solid #f8b229; border-top: 3px solid #ea4630;\"\n",
    ">\n",
    "  Part Two\n",
    "</h2>"
   ]
  },
  {
   "cell_type": "markdown",
   "metadata": {},
   "source": [
    "\n",
    "\n",
    "\n",
    "Just as you're about to report your findings to the Elf, one of you realizes that the rules have actually been printed on the back of every card this whole time.\n",
    "\n",
    "There's no such thing as \"points\". Instead, scratchcards only cause you to **win more scratchcards** equal to the number of winning numbers you have.\n",
    "\n",
    "Specifically, you win **copies** of the scratchcards below the winning card equal to the number of matches. So, if card 10 were to have 5 matching numbers, you would win one copy each of cards 11, 12, 13, 14, and 15.\n",
    "\n",
    "Copies of scratchcards are scored like normal scratchcards and have the same card number as the card they copied. So, if you win a copy of card 10 and it has 5 matching numbers, it would then win a copy of the same cards that the original card `10` won: cards `11`, `12`, `13`, `14`, and `15`. This process repeats until none of the copies cause you to win any more cards. (Cards will never make you copy a card past the end of the table.)\n",
    "\n",
    "This time, the above example goes differently:\n",
    "```\n",
    "Card 1: 41 48 83 86 17 | 83 86  6 31 17  9 48 53\n",
    "Card 2: 13 32 20 16 61 | 61 30 68 82 17 32 24 19\n",
    "Card 3:  1 21 53 59 44 | 69 82 63 72 16 21 14  1\n",
    "Card 4: 41 92 73 84 69 | 59 84 76 51 58  5 54 83\n",
    "Card 5: 87 83 26 28 32 | 88 30 70 12 93 22 82 36\n",
    "Card 6: 31 18 13 56 72 | 74 77 10 23 35 67 36 11\n",
    "```\n",
    "\n",
    " - Card 1 has `four matching numbers`, so you win one copy each of the next four cards: cards `2`, `3`, `4`, and `5`.\n",
    " - *Your original* card 2 has `two` matching numbers, so you win one copy each of cards `3` and `4`.\n",
    " - *Your copy* of card 2 *also wins one copy each of cards `3` and `4`*.\n",
    " - Your four instances of card 3 (one original and three copies) have two matching numbers, so you win four copies each of cards 4 and 5.\n",
    " - Your eight instances of card 4 (one original and seven copies) have one matching number, so you win eight copies of card 5.\n",
    " - Your fourteen instances of card 5 (one original and thirteen copies) have no matching numbers and win no more cards.\n",
    " - Your one instance of card 6 (one original) has no matching numbers and wins no more cards.\n",
    "Once all of the originals and copies have been processed, you end up with 1 instance of card 1, 2 instances of card 2, 4 instances of card 3, 8 instances of card 4, 14 instances of card 5, and 1 instance of card 6. In total, this example pile of scratchcards causes you to ultimately have 30 scratchcards!\n",
    "\n",
    "Process all of the original and copied scratchcards until no more scratchcards are won. Including the original set of scratchcards, \n",
    "\n",
    "<h5 \n",
    "  style=\"color:#8fca6b; border-bottom: 1px solid #f8b229; border-top: 1px solid #f8b229;\"\n",
    ">\n",
    "  how many total scratchcards do you end up with?\n",
    "</h5>\n",
    "\n",
    "\n",
    "Answer:"
   ]
  },
  {
   "cell_type": "markdown",
   "metadata": {},
   "source": [
    "<h5 style=\"text-align:right; padding-right: 10%;\">\n",
    "  <a href=\"#title\">Top Of Page</a>\n",
    "</h5>"
   ]
  },
  {
   "cell_type": "code",
   "execution_count": 105,
   "metadata": {},
   "outputs": [
    {
     "data": {
      "text/plain": [
       "186"
      ]
     },
     "execution_count": 105,
     "metadata": {},
     "output_type": "execute_result"
    }
   ],
   "source": [
    "len(df['matches'])\n"
   ]
  },
  {
   "cell_type": "code",
   "execution_count": 101,
   "metadata": {},
   "outputs": [
    {
     "data": {
      "text/plain": [
       "{1: 0}"
      ]
     },
     "execution_count": 101,
     "metadata": {},
     "output_type": "execute_result"
    }
   ],
   "source": [
    "copies_dict[1] = 0\n",
    "copies_dict\n"
   ]
  },
  {
   "cell_type": "code",
   "execution_count": 106,
   "metadata": {},
   "outputs": [
    {
     "ename": "KeyError",
     "evalue": "1",
     "output_type": "error",
     "traceback": [
      "\u001b[0;31m---------------------------------------------------------------------------\u001b[0m",
      "\u001b[0;31mKeyError\u001b[0m                                  Traceback (most recent call last)",
      "\u001b[1;32m/Users/jdormaar/Projects/Advent_of_code_fun_2023/Advent_of_code_fun_2023/AoC_Day4_2023.ipynb Cell 14\u001b[0m line \u001b[0;36m6\n\u001b[1;32m      <a href='vscode-notebook-cell:/Users/jdormaar/Projects/Advent_of_code_fun_2023/Advent_of_code_fun_2023/AoC_Day4_2023.ipynb#X36sZmlsZQ%3D%3D?line=3'>4</a>\u001b[0m \u001b[39mfor\u001b[39;00m row \u001b[39min\u001b[39;00m \u001b[39mrange\u001b[39m(\u001b[39m186\u001b[39m):\n\u001b[1;32m      <a href='vscode-notebook-cell:/Users/jdormaar/Projects/Advent_of_code_fun_2023/Advent_of_code_fun_2023/AoC_Day4_2023.ipynb#X36sZmlsZQ%3D%3D?line=4'>5</a>\u001b[0m   y \u001b[39m=\u001b[39m df[\u001b[39m'\u001b[39m\u001b[39mmatches\u001b[39m\u001b[39m'\u001b[39m][row]\n\u001b[0;32m----> <a href='vscode-notebook-cell:/Users/jdormaar/Projects/Advent_of_code_fun_2023/Advent_of_code_fun_2023/AoC_Day4_2023.ipynb#X36sZmlsZQ%3D%3D?line=5'>6</a>\u001b[0m   b \u001b[39m=\u001b[39m copies_dict[row] \u001b[39m+\u001b[39m \u001b[39m1\u001b[39m\n\u001b[1;32m      <a href='vscode-notebook-cell:/Users/jdormaar/Projects/Advent_of_code_fun_2023/Advent_of_code_fun_2023/AoC_Day4_2023.ipynb#X36sZmlsZQ%3D%3D?line=6'>7</a>\u001b[0m   c \u001b[39m=\u001b[39m [row \u001b[39m+\u001b[39m z \u001b[39mfor\u001b[39;00m z \u001b[39min\u001b[39;00m \u001b[39mrange\u001b[39m(y)]\n\u001b[1;32m      <a href='vscode-notebook-cell:/Users/jdormaar/Projects/Advent_of_code_fun_2023/Advent_of_code_fun_2023/AoC_Day4_2023.ipynb#X36sZmlsZQ%3D%3D?line=7'>8</a>\u001b[0m   copies_dict[c[\u001b[39m0\u001b[39m]] \u001b[39m+\u001b[39m b\n",
      "\u001b[0;31mKeyError\u001b[0m: 1"
     ]
    }
   ],
   "source": [
    "copies_dict = {}\n",
    "copies_dict[0] = 0\n",
    "\n",
    "for row in range(186):\n",
    "  match_count = df['matches'][row]\n",
    "  b = copies_dict[row] + 1\n",
    "  c = [row + z for z in range(y)]\n",
    "  copies_dict[c[0]] + b\n",
    "\n",
    "copies_dict\n"
   ]
  },
  {
   "cell_type": "code",
   "execution_count": null,
   "metadata": {},
   "outputs": [],
   "source": []
  }
 ],
 "metadata": {
  "kernelspec": {
   "display_name": "base_env",
   "language": "python",
   "name": "base_env"
  },
  "language_info": {
   "codemirror_mode": {
    "name": "ipython",
    "version": 3
   },
   "file_extension": ".py",
   "mimetype": "text/x-python",
   "name": "python",
   "nbconvert_exporter": "python",
   "pygments_lexer": "ipython3",
   "version": "3.10.12"
  }
 },
 "nbformat": 4,
 "nbformat_minor": 2
}
