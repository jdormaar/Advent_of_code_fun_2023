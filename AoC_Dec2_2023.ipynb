{
 "cells": [
  {
   "cell_type": "markdown",
   "metadata": {},
   "source": [
    "<h1 \n",
    "  style=\"color:#207d06; border-bottom: 3px solid #207d06;\"\n",
    "</h1>\n",
    "<h1 \n",
    "  style=\"color:#165b33; border-bottom: 3px solid #165b33;\"\n",
    "</h1>\n",
    "<h1 \n",
    "  style=\"color:#146b3a; border-bottom: 3px solid #146b3a;\"\n",
    "</h1>\n",
    "<h1 \n",
    "  style=\"color:#f8b229; border-bottom: 3px solid #f8b229;\"\n",
    "</h1>\n",
    "<h1 \n",
    "  style=\"color:#ea4630; border-bottom: 3px solid #ea4630;\"\n",
    "</h1>\n",
    "<h1 \n",
    "  style=\"color:#bb2528; border-bottom: 3px solid #bb2528;\"\n",
    "</h1>\n",
    "<h1 \n",
    "  style=\"color:#4974a5; border-bottom: 3px solid #bb2528;\"\n",
    ">\n",
    "  --- Day 2: Cube Conundrum --- Snow Island\n",
    "</h1>\n"
   ]
  },
  {
   "cell_type": "markdown",
   "metadata": {},
   "source": [
    "<h2 \n",
    "  style=\"color:#207d06; border-bottom: 3px solid #f8b229; border-top: 3px solid #ea4630;\"\n",
    ">\n",
    "  Part One\n",
    "</h2>"
   ]
  },
  {
   "cell_type": "markdown",
   "metadata": {},
   "source": [
    "You're launched high into the atmosphere! The apex of your trajectory just barely reaches the surface of a large island floating in the sky. You gently land in a fluffy pile of leaves. It's quite cold, but you don't see much snow. An Elf runs over to greet you.\n",
    "\n",
    "The Elf explains that you've arrived at __Snow Island__ and apologizes for the lack of snow. He'll be happy to explain the situation, but it's a bit of a walk, so you have some time. They don't get many visitors up here; would you like to play a game in the meantime?\n",
    "\n",
    "As you walk, the Elf shows you a small bag and some cubes which are either red, green, or blue. Each time you play this game, he will hide a secret number of cubes of each color in the bag, and your goal is to figure out information about the number of cubes.\n",
    "\n",
    "To get information, once a bag has been loaded with cubes, the Elf will reach into the bag, grab a handful of random cubes, show them to you, and then put them back in the bag. He'll do this a few times per game.\n",
    "\n",
    "You play several games and record the information from each game (your puzzle input). Each game is listed with its ID number (like the `11` in `Game 11: ...`) followed by a semicolon-separated list of subsets of cubes that were revealed from the bag (like `3 red, 5 green, 4 blue`).\n",
    "\n",
    "For example, the record of a few games might look like this:\n",
    "\n",
    "``` \n",
    "Game 1: 3 blue, 4 red; 1 red, 2 green, 6 blue; 2 green\n",
    "Game 2: 1 blue, 2 green; 3 green, 4 blue, 1 red; 1 green, 1 blue\n",
    "Game 3: 8 green, 6 blue, 20 red; 5 blue, 4 red, 13 green; 5 green, 1 red\n",
    "Game 4: 1 green, 3 red, 6 blue; 3 green, 6 red; 3 green, 15 blue, 14 red\n",
    "Game 5: 6 red, 1 blue, 3 green; 2 blue, 1 red, 2 green\n",
    "```\n",
    "In game 1, three sets of cubes are revealed from the bag (and then put back again). The first set is 3 blue cubes and 4 red cubes; the second set is 1 red cube, 2 green cubes, and 6 blue cubes; the third set is only 2 green cubes.\n",
    "\n",
    "The Elf would first like to know \n",
    "<h5 \n",
    "  style=\"color:#8fca6b; border-bottom: 1px solid #f8b229; border-top: 1px solid #f8b229;\"\n",
    ">\n",
    "which games would have been possible if the bag contained only 12 red cubes, 13 green cubes, and 14 blue cubes?\n",
    "</h5>\n",
    "\n",
    "\n",
    "In the example above, games 1, 2, and 5 would have been __possible__ if the bag had been loaded with that configuration. However, game 3 would have been __impossible__ because at one point the Elf showed you 20 red cubes at once; similarly, game 4 would also have been __impossible__ because the Elf showed you 15 blue cubes at once. If you add up the IDs of the games that would have been possible, you get `8`.\n",
    "\n",
    "Determine which games would have been possible if the bag had been loaded with only 12 red cubes, 13 green cubes, and 14 blue cubes. \n",
    "\n",
    "<h5 \n",
    "  style=\"color:#8fca6b; border-bottom: 1px solid #f8b229; border-top: 1px solid #f8b229;\"\n",
    ">\n",
    "What is the sum of the IDs of those games?\n",
    "</h5>\n",
    "\n",
    "To begin, get your [puzzle input](https://adventofcode.com/2023/day/2/input).\n",
    "\n",
    "Answer: \n",
    " "
   ]
  },
  {
   "cell_type": "code",
   "execution_count": 244,
   "metadata": {},
   "outputs": [],
   "source": [
    "import pandas as pd\n"
   ]
  },
  {
   "cell_type": "code",
   "execution_count": 245,
   "metadata": {},
   "outputs": [
    {
     "data": {
      "text/html": [
       "<div>\n",
       "<style scoped>\n",
       "    .dataframe tbody tr th:only-of-type {\n",
       "        vertical-align: middle;\n",
       "    }\n",
       "\n",
       "    .dataframe tbody tr th {\n",
       "        vertical-align: top;\n",
       "    }\n",
       "\n",
       "    .dataframe thead th {\n",
       "        text-align: right;\n",
       "    }\n",
       "</style>\n",
       "<table border=\"1\" class=\"dataframe\">\n",
       "  <thead>\n",
       "    <tr style=\"text-align: right;\">\n",
       "      <th></th>\n",
       "      <th>elf_art</th>\n",
       "    </tr>\n",
       "  </thead>\n",
       "  <tbody>\n",
       "    <tr>\n",
       "      <th>0</th>\n",
       "      <td>fivepqxlpninevh2xxsnsgg63pbvdnqptmg</td>\n",
       "    </tr>\n",
       "    <tr>\n",
       "      <th>1</th>\n",
       "      <td>eight8zlctbmsixhrvbpjb84nnmlcqkzrsix</td>\n",
       "    </tr>\n",
       "    <tr>\n",
       "      <th>2</th>\n",
       "      <td>hkxqfrqmsixfplbkpkdfzzszjxmdjtdkjlprrvr3gghlrq...</td>\n",
       "    </tr>\n",
       "    <tr>\n",
       "      <th>3</th>\n",
       "      <td>zkjkctxvssix1dqb22five</td>\n",
       "    </tr>\n",
       "    <tr>\n",
       "      <th>4</th>\n",
       "      <td>4dtlmkfnm</td>\n",
       "    </tr>\n",
       "  </tbody>\n",
       "</table>\n",
       "</div>"
      ],
      "text/plain": [
       "                                             elf_art\n",
       "0                fivepqxlpninevh2xxsnsgg63pbvdnqptmg\n",
       "1               eight8zlctbmsixhrvbpjb84nnmlcqkzrsix\n",
       "2  hkxqfrqmsixfplbkpkdfzzszjxmdjtdkjlprrvr3gghlrq...\n",
       "3                             zkjkctxvssix1dqb22five\n",
       "4                                          4dtlmkfnm"
      ]
     },
     "execution_count": 245,
     "metadata": {},
     "output_type": "execute_result"
    }
   ],
   "source": [
    "calibration_document = pd.read_csv('./data/Day1.csv', header=0)\n",
    "\n",
    "cd = calibration_document.copy()\n",
    "cd.head()\n"
   ]
  },
  {
   "cell_type": "markdown",
   "metadata": {},
   "source": [
    "<h2 \n",
    "  style=\"color:#207d06; border-bottom: 3px solid #f8b229; border-top: 3px solid #ea4630;\"\n",
    ">\n",
    "  Part Two\n",
    "</h2>"
   ]
  },
  {
   "cell_type": "markdown",
   "metadata": {},
   "source": []
  },
  {
   "cell_type": "markdown",
   "metadata": {},
   "source": [
    "<h5 style=\"text-align:right; padding-right: 10%;\">\n",
    "  <a href=\"#title\">Top Of Page</a>\n",
    "</h5>"
   ]
  }
 ],
 "metadata": {
  "kernelspec": {
   "display_name": "base_env",
   "language": "python",
   "name": "base_env"
  },
  "language_info": {
   "codemirror_mode": {
    "name": "ipython",
    "version": 3
   },
   "file_extension": ".py",
   "mimetype": "text/x-python",
   "name": "python",
   "nbconvert_exporter": "python",
   "pygments_lexer": "ipython3",
   "version": "3.10.12"
  }
 },
 "nbformat": 4,
 "nbformat_minor": 2
}
