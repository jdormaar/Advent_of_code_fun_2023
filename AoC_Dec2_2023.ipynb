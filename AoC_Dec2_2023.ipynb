{
 "cells": [
  {
   "cell_type": "markdown",
   "metadata": {},
   "source": [
    "<h1 \n",
    "  style=\"color:#207d06; border-bottom: 3px solid #207d06;\"\n",
    "</h1>\n",
    "<h1 \n",
    "  style=\"color:#165b33; border-bottom: 3px solid #165b33;\"\n",
    "</h1>\n",
    "<h1 \n",
    "  style=\"color:#146b3a; border-bottom: 3px solid #146b3a;\"\n",
    "</h1>\n",
    "<h1 \n",
    "  style=\"color:#f8b229; border-bottom: 3px solid #f8b229;\"\n",
    "</h1>\n",
    "<h1 \n",
    "  style=\"color:#ea4630; border-bottom: 3px solid #ea4630;\"\n",
    "</h1>\n",
    "<h1 \n",
    "  style=\"color:#bb2528; border-bottom: 3px solid #bb2528;\"\n",
    "</h1>\n",
    "<h1 \n",
    "  style=\"color:#4974a5; border-bottom: 3px solid #bb2528;\"\n",
    ">\n",
    "  --- Day 2: Cube Conundrum --- Snow Island\n",
    "</h1>\n"
   ]
  },
  {
   "cell_type": "markdown",
   "metadata": {},
   "source": [
    "<h2 \n",
    "  style=\"color:#207d06; border-bottom: 3px solid #f8b229; border-top: 3px solid #ea4630;\"\n",
    ">\n",
    "  Part One\n",
    "</h2>"
   ]
  },
  {
   "cell_type": "markdown",
   "metadata": {},
   "source": [
    "You're launched high into the atmosphere! The apex of your trajectory just barely reaches the surface of a large island floating in the sky. You gently land in a fluffy pile of leaves. It's quite cold, but you don't see much snow. An Elf runs over to greet you.\n",
    "\n",
    "The Elf explains that you've arrived at __Snow Island__ and apologizes for the lack of snow. He'll be happy to explain the situation, but it's a bit of a walk, so you have some time. They don't get many visitors up here; would you like to play a game in the meantime?\n",
    "\n",
    "As you walk, the Elf shows you a small bag and some cubes which are either red, green, or blue. Each time you play this game, he will hide a secret number of cubes of each color in the bag, and your goal is to figure out information about the number of cubes.\n",
    "\n",
    "To get information, once a bag has been loaded with cubes, the Elf will reach into the bag, grab a handful of random cubes, show them to you, and then put them back in the bag. He'll do this a few times per game.\n",
    "\n",
    "You play several games and record the information from each game (your puzzle input). Each game is listed with its ID number (like the `11` in `Game 11: ...`) followed by a semicolon-separated list of subsets of cubes that were revealed from the bag (like `3 red, 5 green, 4 blue`).\n",
    "\n",
    "For example, the record of a few games might look like this:\n",
    "\n",
    "``` \n",
    "Game 1: 3 blue, 4 red; 1 red, 2 green, 6 blue; 2 green\n",
    "Game 2: 1 blue, 2 green; 3 green, 4 blue, 1 red; 1 green, 1 blue\n",
    "Game 3: 8 green, 6 blue, 20 red; 5 blue, 4 red, 13 green; 5 green, 1 red\n",
    "Game 4: 1 green, 3 red, 6 blue; 3 green, 6 red; 3 green, 15 blue, 14 red\n",
    "Game 5: 6 red, 1 blue, 3 green; 2 blue, 1 red, 2 green\n",
    "```\n",
    "In game 1, three sets of cubes are revealed from the bag (and then put back again). The first set is 3 blue cubes and 4 red cubes; the second set is 1 red cube, 2 green cubes, and 6 blue cubes; the third set is only 2 green cubes.\n",
    "\n",
    "The Elf would first like to know \n",
    "<h5 \n",
    "  style=\"color:#8fca6b; border-bottom: 1px solid #f8b229; border-top: 1px solid #f8b229;\"\n",
    ">\n",
    "which games would have been possible if the bag contained only 12 red cubes, 13 green cubes, and 14 blue cubes?\n",
    "</h5>\n",
    "\n",
    "\n",
    "In the example above, games 1, 2, and 5 would have been __possible__ if the bag had been loaded with that configuration. However, game 3 would have been __impossible__ because at one point the Elf showed you 20 red cubes at once; similarly, game 4 would also have been __impossible__ because the Elf showed you 15 blue cubes at once. If you add up the IDs of the games that would have been possible, you get `8`.\n",
    "\n",
    "Determine which games would have been possible if the bag had been loaded with only 12 red cubes, 13 green cubes, and 14 blue cubes. \n",
    "\n",
    "<h5 \n",
    "  style=\"color:#8fca6b; border-bottom: 1px solid #f8b229; border-top: 1px solid #f8b229;\"\n",
    ">\n",
    "What is the sum of the IDs of those games?\n",
    "</h5>\n",
    "\n",
    "To begin, get your [puzzle input](https://adventofcode.com/2023/day/2/input).\n",
    "\n",
    "Answer: \n",
    " "
   ]
  },
  {
   "cell_type": "code",
   "execution_count": 1,
   "metadata": {},
   "outputs": [],
   "source": [
    "import pandas as pd\n"
   ]
  },
  {
   "cell_type": "code",
   "execution_count": 14,
   "metadata": {},
   "outputs": [
    {
     "data": {
      "text/html": [
       "<div>\n",
       "<style scoped>\n",
       "    .dataframe tbody tr th:only-of-type {\n",
       "        vertical-align: middle;\n",
       "    }\n",
       "\n",
       "    .dataframe tbody tr th {\n",
       "        vertical-align: top;\n",
       "    }\n",
       "\n",
       "    .dataframe thead th {\n",
       "        text-align: right;\n",
       "    }\n",
       "</style>\n",
       "<table border=\"1\" class=\"dataframe\">\n",
       "  <thead>\n",
       "    <tr style=\"text-align: right;\">\n",
       "      <th></th>\n",
       "      <th>game</th>\n",
       "      <th>set_1</th>\n",
       "      <th>set_2</th>\n",
       "      <th>set_3</th>\n",
       "      <th>set_4</th>\n",
       "      <th>set_5</th>\n",
       "      <th>set_6</th>\n",
       "    </tr>\n",
       "  </thead>\n",
       "  <tbody>\n",
       "    <tr>\n",
       "      <th>0</th>\n",
       "      <td>Game 1</td>\n",
       "      <td>2 green, 6 blue, 7 red</td>\n",
       "      <td>12 green, 6 blue, 3 red</td>\n",
       "      <td>5 red, 18 green, 4 blue</td>\n",
       "      <td>None</td>\n",
       "      <td>None</td>\n",
       "      <td>None</td>\n",
       "    </tr>\n",
       "    <tr>\n",
       "      <th>1</th>\n",
       "      <td>Game 2</td>\n",
       "      <td>10 green, 4 red</td>\n",
       "      <td>2 red</td>\n",
       "      <td>12 green, 11 red, 1 blue</td>\n",
       "      <td>1 blue, 11 red, 5 green</td>\n",
       "      <td>10 red, 9 green, 1 blue</td>\n",
       "      <td>None</td>\n",
       "    </tr>\n",
       "    <tr>\n",
       "      <th>2</th>\n",
       "      <td>Game 3</td>\n",
       "      <td>3 green</td>\n",
       "      <td>15 red, 7 blue, 1 green</td>\n",
       "      <td>3 red, 6 blue, 1 green</td>\n",
       "      <td>14 blue, 13 red, 2 green</td>\n",
       "      <td>1 green, 6 blue, 6 red</td>\n",
       "      <td>16 red, 13 blue, 2 green</td>\n",
       "    </tr>\n",
       "    <tr>\n",
       "      <th>3</th>\n",
       "      <td>Game 4</td>\n",
       "      <td>5 blue</td>\n",
       "      <td>8 blue, 7 red</td>\n",
       "      <td>9 blue, 5 red, 4 green</td>\n",
       "      <td>4 red, 1 green</td>\n",
       "      <td>8 red, 6 blue</td>\n",
       "      <td>2 blue, 4 red, 3 green</td>\n",
       "    </tr>\n",
       "    <tr>\n",
       "      <th>4</th>\n",
       "      <td>Game 5</td>\n",
       "      <td>3 blue, 4 red, 10 green</td>\n",
       "      <td>13 green, 8 blue, 2 red</td>\n",
       "      <td>2 red, 4 green, 6 blue</td>\n",
       "      <td>3 blue, 5 green, 2 red</td>\n",
       "      <td>4 red, 13 blue, 8 green</td>\n",
       "      <td>9 green, 2 red</td>\n",
       "    </tr>\n",
       "  </tbody>\n",
       "</table>\n",
       "</div>"
      ],
      "text/plain": [
       "     game                     set_1                     set_2  \\\n",
       "0  Game 1    2 green, 6 blue, 7 red   12 green, 6 blue, 3 red   \n",
       "1  Game 2           10 green, 4 red                     2 red   \n",
       "2  Game 3                   3 green   15 red, 7 blue, 1 green   \n",
       "3  Game 4                    5 blue             8 blue, 7 red   \n",
       "4  Game 5   3 blue, 4 red, 10 green   13 green, 8 blue, 2 red   \n",
       "\n",
       "                       set_3                      set_4  \\\n",
       "0    5 red, 18 green, 4 blue                       None   \n",
       "1   12 green, 11 red, 1 blue    1 blue, 11 red, 5 green   \n",
       "2     3 red, 6 blue, 1 green   14 blue, 13 red, 2 green   \n",
       "3     9 blue, 5 red, 4 green             4 red, 1 green   \n",
       "4     2 red, 4 green, 6 blue     3 blue, 5 green, 2 red   \n",
       "\n",
       "                      set_5                      set_6  \n",
       "0                      None                       None  \n",
       "1   10 red, 9 green, 1 blue                       None  \n",
       "2    1 green, 6 blue, 6 red   16 red, 13 blue, 2 green  \n",
       "3             8 red, 6 blue     2 blue, 4 red, 3 green  \n",
       "4   4 red, 13 blue, 8 green             9 green, 2 red  "
      ]
     },
     "execution_count": 14,
     "metadata": {},
     "output_type": "execute_result"
    }
   ],
   "source": [
    "cube_notes = pd.read_csv('./data/Day2.csv'\n",
    "                  , names=[\n",
    "                      'game',\n",
    "                      'set_1',\n",
    "                      'set_2',\n",
    "                      'set_3',\n",
    "                      'set_4',\n",
    "                      'set_5',\n",
    "                      'set_6'\n",
    "                      ]\n",
    "                  , delimiter=r'[:;]'\n",
    "                  , engine='python'\n",
    "                  )\n",
    "\n",
    "cn = cube_notes.copy()\n",
    "cn.head()\n"
   ]
  },
  {
   "cell_type": "code",
   "execution_count": 94,
   "metadata": {},
   "outputs": [
    {
     "data": {
      "text/html": [
       "<div>\n",
       "<style scoped>\n",
       "    .dataframe tbody tr th:only-of-type {\n",
       "        vertical-align: middle;\n",
       "    }\n",
       "\n",
       "    .dataframe tbody tr th {\n",
       "        vertical-align: top;\n",
       "    }\n",
       "\n",
       "    .dataframe thead th {\n",
       "        text-align: right;\n",
       "    }\n",
       "</style>\n",
       "<table border=\"1\" class=\"dataframe\">\n",
       "  <thead>\n",
       "    <tr style=\"text-align: right;\">\n",
       "      <th></th>\n",
       "      <th>game</th>\n",
       "      <th>game_sets</th>\n",
       "    </tr>\n",
       "  </thead>\n",
       "  <tbody>\n",
       "    <tr>\n",
       "      <th>0</th>\n",
       "      <td>1</td>\n",
       "      <td>2 green, 6 blue, 7 red; 12 green, 6 blue, 3 r...</td>\n",
       "    </tr>\n",
       "    <tr>\n",
       "      <th>1</th>\n",
       "      <td>2</td>\n",
       "      <td>10 green, 4 red; 2 red; 12 green, 11 red, 1 b...</td>\n",
       "    </tr>\n",
       "    <tr>\n",
       "      <th>2</th>\n",
       "      <td>3</td>\n",
       "      <td>3 green; 15 red, 7 blue, 1 green; 3 red, 6 bl...</td>\n",
       "    </tr>\n",
       "    <tr>\n",
       "      <th>3</th>\n",
       "      <td>4</td>\n",
       "      <td>5 blue; 8 blue, 7 red; 9 blue, 5 red, 4 green...</td>\n",
       "    </tr>\n",
       "    <tr>\n",
       "      <th>4</th>\n",
       "      <td>5</td>\n",
       "      <td>3 blue, 4 red, 10 green; 13 green, 8 blue, 2 ...</td>\n",
       "    </tr>\n",
       "  </tbody>\n",
       "</table>\n",
       "</div>"
      ],
      "text/plain": [
       "   game                                          game_sets\n",
       "0     1   2 green, 6 blue, 7 red; 12 green, 6 blue, 3 r...\n",
       "1     2   10 green, 4 red; 2 red; 12 green, 11 red, 1 b...\n",
       "2     3   3 green; 15 red, 7 blue, 1 green; 3 red, 6 bl...\n",
       "3     4   5 blue; 8 blue, 7 red; 9 blue, 5 red, 4 green...\n",
       "4     5   3 blue, 4 red, 10 green; 13 green, 8 blue, 2 ..."
      ]
     },
     "execution_count": 94,
     "metadata": {},
     "output_type": "execute_result"
    }
   ],
   "source": [
    "cube_notes = pd.read_csv('./data/Day2.csv'\n",
    "                  , names=[\n",
    "                      'game',\n",
    "                      'game_sets',\n",
    "                      ]\n",
    "                  , delimiter=':'\n",
    "                  )\n",
    "\n",
    "df = cube_notes.copy()\n",
    "df['game'] = df['game'].apply(lambda x: int(x.strip('Game ')))\n",
    "df.head()\n"
   ]
  },
  {
   "cell_type": "code",
   "execution_count": 38,
   "metadata": {},
   "outputs": [],
   "source": [
    "game_dict = {'red': 12,'green': 13,'blue': 14}\n"
   ]
  },
  {
   "cell_type": "code",
   "execution_count": 97,
   "metadata": {},
   "outputs": [],
   "source": [
    "def split_game_sets(game):\n",
    "  game_set = game.split(';')\n",
    "  return game_set\n"
   ]
  },
  {
   "cell_type": "code",
   "execution_count": 151,
   "metadata": {},
   "outputs": [],
   "source": [
    "def game_set_dict(game_set):\n",
    "  # Instantiate temp variables:\n",
    "  set_dict = {'red':0 ,'green':0 ,'blue':0 }\n",
    "  nums = ''\n",
    "\n",
    "  import string_utils as su\n",
    "  set_list = su.string_reverse(game_set).split(',')\n",
    "  set_list.sort()\n",
    "\n",
    "  for colour in set_list:\n",
    "    # Pull number of cubes if any:\n",
    "    nums = nums.join([i for i in colour if i.isnumeric()])\n",
    "    cubes = int(su.string_reverse(nums)) if len(nums) !=0 else 0\n",
    "\n",
    "    # Assign dictionary values by cube colour:\n",
    "    set_dict['red'] += cubes if colour.startswith('de') else 0\n",
    "    set_dict['blue'] += cubes if colour.startswith('eu') else 0\n",
    "    set_dict['green'] += cubes if colour.startswith('ne') else 0\n",
    "\n",
    "  return set_dict\n"
   ]
  },
  {
   "cell_type": "code",
   "execution_count": 158,
   "metadata": {},
   "outputs": [],
   "source": [
    "def check_possible_game(game):\n",
    "  max_dict = {'red': 12,'green': 13,'blue': 14}\n",
    "  red = []\n",
    "  green = []\n",
    "  blue = []\n",
    "  colours = [red, green, blue]\n",
    "  colour_names = ['red', 'green', 'blue']\n",
    "\n",
    "  for game_set in split_game_sets(game):\n",
    "    [colours[i].append(game_set_dict(game_set)[colour_names[i]]) for i in range(3)]\n",
    "\n",
    "  max_x = []\n",
    "  possible_game = 0\n",
    "  for i in range(3):\n",
    "    x = int(max(colours[i]) > max_dict[colour_names[i]])\n",
    "    max_x.append(int(max(colours[i])))\n",
    "    possible_game += x\n",
    "  return possible_game, max_x\n"
   ]
  },
  {
   "cell_type": "code",
   "execution_count": 157,
   "metadata": {},
   "outputs": [
    {
     "name": "stdout",
     "output_type": "stream",
     "text": [
      "{'red': 4, 'green': 140, 'blue': 0}\n",
      "{'red': 2, 'green': 0, 'blue': 0}\n",
      "{'red': 11, 'green': 112, 'blue': 1}\n",
      "{'red': 11, 'green': 5, 'blue': 1}\n",
      "{'red': 10, 'green': 9, 'blue': 1}\n"
     ]
    }
   ],
   "source": [
    "game = df['game_sets'][1]\n",
    "for game_set in split_game_sets(game):\n",
    "  print(game_set_dict(game_set))\n"
   ]
  },
  {
   "cell_type": "code",
   "execution_count": 159,
   "metadata": {},
   "outputs": [
    {
     "name": "stdout",
     "output_type": "stream",
     "text": [
      " 3 green; 15 red, 7 blue, 1 green; 3 red, 6 blue, 1 green; 14 blue, 13 red, 2 green; 1 green, 6 blue, 6 red; 16 red, 13 blue, 2 green\n",
      " 3 green; 15 red, 7 blue, 1 green; 3 red, 6 blue, 1 green; 14 blue, 13 red, 2 green; 1 green, 6 blue, 6 red; 16 red, 13 blue, 2 green\n"
     ]
    },
    {
     "data": {
      "text/plain": [
       "(2, [16, 3, 1163])"
      ]
     },
     "execution_count": 159,
     "metadata": {},
     "output_type": "execute_result"
    }
   ],
   "source": [
    "print(df['game_sets'][2])\n",
    "print(df['game_sets'][2])\n",
    "check_possible_game(df['game_sets'][2])\n"
   ]
  },
  {
   "cell_type": "code",
   "execution_count": 160,
   "metadata": {},
   "outputs": [
    {
     "data": {
      "text/html": [
       "<div>\n",
       "<style scoped>\n",
       "    .dataframe tbody tr th:only-of-type {\n",
       "        vertical-align: middle;\n",
       "    }\n",
       "\n",
       "    .dataframe tbody tr th {\n",
       "        vertical-align: top;\n",
       "    }\n",
       "\n",
       "    .dataframe thead th {\n",
       "        text-align: right;\n",
       "    }\n",
       "</style>\n",
       "<table border=\"1\" class=\"dataframe\">\n",
       "  <thead>\n",
       "    <tr style=\"text-align: right;\">\n",
       "      <th></th>\n",
       "      <th>game</th>\n",
       "      <th>game_sets</th>\n",
       "      <th>possible_game</th>\n",
       "      <th>max_r_g_b</th>\n",
       "    </tr>\n",
       "  </thead>\n",
       "  <tbody>\n",
       "    <tr>\n",
       "      <th>0</th>\n",
       "      <td>1</td>\n",
       "      <td>2 green, 6 blue, 7 red; 12 green, 6 blue, 3 r...</td>\n",
       "      <td>1</td>\n",
       "      <td>[7, 162, 6]</td>\n",
       "    </tr>\n",
       "    <tr>\n",
       "      <th>1</th>\n",
       "      <td>2</td>\n",
       "      <td>10 green, 4 red; 2 red; 12 green, 11 red, 1 b...</td>\n",
       "      <td>1</td>\n",
       "      <td>[11, 140, 1]</td>\n",
       "    </tr>\n",
       "    <tr>\n",
       "      <th>2</th>\n",
       "      <td>3</td>\n",
       "      <td>3 green; 15 red, 7 blue, 1 green; 3 red, 6 bl...</td>\n",
       "      <td>2</td>\n",
       "      <td>[16, 3, 1163]</td>\n",
       "    </tr>\n",
       "    <tr>\n",
       "      <th>3</th>\n",
       "      <td>4</td>\n",
       "      <td>5 blue; 8 blue, 7 red; 9 blue, 5 red, 4 green...</td>\n",
       "      <td>0</td>\n",
       "      <td>[8, 4, 9]</td>\n",
       "    </tr>\n",
       "    <tr>\n",
       "      <th>4</th>\n",
       "      <td>5</td>\n",
       "      <td>3 blue, 4 red, 10 green; 13 green, 8 blue, 2 ...</td>\n",
       "      <td>2</td>\n",
       "      <td>[4, 183, 143]</td>\n",
       "    </tr>\n",
       "  </tbody>\n",
       "</table>\n",
       "</div>"
      ],
      "text/plain": [
       "   game                                          game_sets  possible_game  \\\n",
       "0     1   2 green, 6 blue, 7 red; 12 green, 6 blue, 3 r...              1   \n",
       "1     2   10 green, 4 red; 2 red; 12 green, 11 red, 1 b...              1   \n",
       "2     3   3 green; 15 red, 7 blue, 1 green; 3 red, 6 bl...              2   \n",
       "3     4   5 blue; 8 blue, 7 red; 9 blue, 5 red, 4 green...              0   \n",
       "4     5   3 blue, 4 red, 10 green; 13 green, 8 blue, 2 ...              2   \n",
       "\n",
       "       max_r_g_b  \n",
       "0    [7, 162, 6]  \n",
       "1   [11, 140, 1]  \n",
       "2  [16, 3, 1163]  \n",
       "3      [8, 4, 9]  \n",
       "4  [4, 183, 143]  "
      ]
     },
     "execution_count": 160,
     "metadata": {},
     "output_type": "execute_result"
    }
   ],
   "source": [
    "df['max_r_g_b'] = df['game_sets'].apply(lambda x: check_possible_game(x)[1])\n",
    "df['possible_game'] = df['game_sets'].apply(lambda x: check_possible_game(x)[0])\n",
    "df.head()\n"
   ]
  },
  {
   "cell_type": "code",
   "execution_count": 128,
   "metadata": {},
   "outputs": [
    {
     "data": {
      "text/plain": [
       "0    100\n",
       "Name: possible_game, dtype: int64"
      ]
     },
     "execution_count": 128,
     "metadata": {},
     "output_type": "execute_result"
    }
   ],
   "source": [
    "df['possible_game'].value_counts()\n"
   ]
  },
  {
   "cell_type": "code",
   "execution_count": 119,
   "metadata": {},
   "outputs": [
    {
     "name": "stdout",
     "output_type": "stream",
     "text": [
      "0\n",
      "0\n",
      "0\n"
     ]
    }
   ],
   "source": [
    "possible_game = 0\n",
    "for i in range(3):\n",
    "  x = int(max(colours[i]) > max_dict[colour_names[i]])\n",
    "  print(x)\n",
    "  possible_game += x\n"
   ]
  },
  {
   "cell_type": "code",
   "execution_count": 109,
   "metadata": {},
   "outputs": [
    {
     "data": {
      "text/plain": [
       "False"
      ]
     },
     "execution_count": 109,
     "metadata": {},
     "output_type": "execute_result"
    }
   ],
   "source": [
    "max(red) > max_cube_dict['red']\n"
   ]
  },
  {
   "cell_type": "code",
   "execution_count": 161,
   "metadata": {},
   "outputs": [],
   "source": [
    "test_games = {'3 blue, 4 red; 1 red, 2 green, 6 blue; 2 green': 1\n",
    ", '1 blue, 2 green; 3 green, 4 blue, 1 red; 1 green, 1 blue': 2\n",
    ", '8 green, 6 blue, 20 red; 5 blue, 4 red, 13 green; 5 green, 1 red': 3\n",
    ", '1 green, 3 red, 6 blue; 3 green, 6 red; 3 green, 15 blue, 14 red': 4\n",
    ", '6 red, 1 blue, 3 green; 2 blue, 1 red, 2 green': 5\n",
    "}\n"
   ]
  },
  {
   "cell_type": "code",
   "execution_count": 165,
   "metadata": {},
   "outputs": [
    {
     "data": {
      "text/plain": [
       "[(0, [4, 2, 6]),\n",
       " (0, [1, 3, 4]),\n",
       " (2, [20, 153, 6]),\n",
       " (2, [14, 3, 1145]),\n",
       " (0, [6, 3, 2])]"
      ]
     },
     "execution_count": 165,
     "metadata": {},
     "output_type": "execute_result"
    }
   ],
   "source": [
    "[check_possible_game(list(test_games.keys())[i]) for i in range(5)]\n"
   ]
  },
  {
   "cell_type": "code",
   "execution_count": null,
   "metadata": {},
   "outputs": [],
   "source": [
    "test_games.keys()\n"
   ]
  },
  {
   "cell_type": "code",
   "execution_count": null,
   "metadata": {},
   "outputs": [],
   "source": [
    "game_1 = '3 blue, 4 red; 1 red, 2 green, 6 blue; 2 green'\n",
    "game_2 = '1 blue, 2 green; 3 green, 4 blue, 1 red; 1 green, 1 blue'\n",
    "game_3 = '8 green, 6 blue, 20 red; 5 blue, 4 red, 13 green; 5 green, 1 red'\n",
    "game_4 = '1 green, 3 red, 6 blue; 3 green, 6 red; 3 green, 15 blue, 14 red'\n",
    "game_5 = '6 red, 1 blue, 3 green; 2 blue, 1 red, 2 green'\n",
    "\n"
   ]
  },
  {
   "cell_type": "code",
   "execution_count": 88,
   "metadata": {},
   "outputs": [
    {
     "name": "stdout",
     "output_type": "stream",
     "text": [
      "game_set: 2 green, 6 blue, 7 red\n",
      "set_list: ['der 7 ', 'eulb 6 ', 'neerg 2']\n",
      "colour: der 7 \n",
      "colour: eulb 6 \n",
      "colour: neerg 2\n"
     ]
    },
    {
     "data": {
      "text/plain": [
       "{'red': 7, 'green': 2, 'blue': 6}"
      ]
     },
     "execution_count": 88,
     "metadata": {},
     "output_type": "execute_result"
    }
   ],
   "source": [
    "game_set_dict('2 green, 6 blue, 7 red')\n"
   ]
  },
  {
   "cell_type": "code",
   "execution_count": null,
   "metadata": {},
   "outputs": [],
   "source": [
    "test.append('')\n"
   ]
  },
  {
   "cell_type": "code",
   "execution_count": 36,
   "metadata": {},
   "outputs": [
    {
     "data": {
      "text/plain": [
       "['der 7 ', 'eulb 6 ', 'neerg 2']"
      ]
     },
     "execution_count": 36,
     "metadata": {},
     "output_type": "execute_result"
    }
   ],
   "source": [
    "test.sort()\n",
    "test\n"
   ]
  },
  {
   "cell_type": "code",
   "execution_count": 31,
   "metadata": {},
   "outputs": [
    {
     "ename": "ValueError",
     "evalue": "string keys in translate table must be of length 1",
     "output_type": "error",
     "traceback": [
      "\u001b[0;31m---------------------------------------------------------------------------\u001b[0m",
      "\u001b[0;31mValueError\u001b[0m                                Traceback (most recent call last)",
      "\u001b[1;32m/Users/jdormaar/Projects/Advent_of_code_fun_2023/Advent_of_code_fun_2023/AoC_Dec2_2023.ipynb Cell 8\u001b[0m line \u001b[0;36m1\n\u001b[0;32m----> <a href='vscode-notebook-cell:/Users/jdormaar/Projects/Advent_of_code_fun_2023/Advent_of_code_fun_2023/AoC_Dec2_2023.ipynb#X32sZmlsZQ%3D%3D?line=0'>1</a>\u001b[0m \u001b[39m'\u001b[39;49m\u001b[39m2 green, 6 blue, 7 red\u001b[39;49m\u001b[39m'\u001b[39;49m\u001b[39m.\u001b[39;49mmaketrans(game_dict)\n",
      "\u001b[0;31mValueError\u001b[0m: string keys in translate table must be of length 1"
     ]
    }
   ],
   "source": [
    "'2 green, 6 blue, 7 red'.maketrans(game_dict)\n"
   ]
  },
  {
   "cell_type": "code",
   "execution_count": 23,
   "metadata": {},
   "outputs": [],
   "source": [
    "game_set = ['2 green', ' 6 blue', ' 7 red']\n"
   ]
  },
  {
   "cell_type": "code",
   "execution_count": 27,
   "metadata": {},
   "outputs": [
    {
     "ename": "AttributeError",
     "evalue": "'NoneType' object has no attribute 'sort'",
     "output_type": "error",
     "traceback": [
      "\u001b[0;31m---------------------------------------------------------------------------\u001b[0m",
      "\u001b[0;31mAttributeError\u001b[0m                            Traceback (most recent call last)",
      "\u001b[1;32m/Users/jdormaar/Projects/Advent_of_code_fun_2023/Advent_of_code_fun_2023/AoC_Dec2_2023.ipynb Cell 10\u001b[0m line \u001b[0;36m1\n\u001b[0;32m----> <a href='vscode-notebook-cell:/Users/jdormaar/Projects/Advent_of_code_fun_2023/Advent_of_code_fun_2023/AoC_Dec2_2023.ipynb#X40sZmlsZQ%3D%3D?line=0'>1</a>\u001b[0m game_set\u001b[39m.\u001b[39;49mreverse()\u001b[39m.\u001b[39;49msort()\n\u001b[1;32m      <a href='vscode-notebook-cell:/Users/jdormaar/Projects/Advent_of_code_fun_2023/Advent_of_code_fun_2023/AoC_Dec2_2023.ipynb#X40sZmlsZQ%3D%3D?line=1'>2</a>\u001b[0m game_set\n",
      "\u001b[0;31mAttributeError\u001b[0m: 'NoneType' object has no attribute 'sort'"
     ]
    }
   ],
   "source": [
    "game_set.reverse().sort()\n",
    "game_set\n"
   ]
  },
  {
   "cell_type": "code",
   "execution_count": null,
   "metadata": {},
   "outputs": [],
   "source": []
  },
  {
   "cell_type": "code",
   "execution_count": 24,
   "metadata": {},
   "outputs": [
    {
     "ename": "TypeError",
     "evalue": "cannot unpack non-iterable int object",
     "output_type": "error",
     "traceback": [
      "\u001b[0;31m---------------------------------------------------------------------------\u001b[0m",
      "\u001b[0;31mTypeError\u001b[0m                                 Traceback (most recent call last)",
      "\u001b[1;32m/Users/jdormaar/Projects/Advent_of_code_fun_2023/Advent_of_code_fun_2023/AoC_Dec2_2023.ipynb Cell 10\u001b[0m line \u001b[0;36m4\n\u001b[1;32m      <a href='vscode-notebook-cell:/Users/jdormaar/Projects/Advent_of_code_fun_2023/Advent_of_code_fun_2023/AoC_Dec2_2023.ipynb#X31sZmlsZQ%3D%3D?line=0'>1</a>\u001b[0m cube_keys \u001b[39m=\u001b[39m [\u001b[39m'\u001b[39m\u001b[39mred\u001b[39m\u001b[39m'\u001b[39m , \u001b[39m'\u001b[39m\u001b[39mgreen\u001b[39m\u001b[39m'\u001b[39m , \u001b[39m'\u001b[39m\u001b[39mblue\u001b[39m\u001b[39m'\u001b[39m]\n\u001b[1;32m      <a href='vscode-notebook-cell:/Users/jdormaar/Projects/Advent_of_code_fun_2023/Advent_of_code_fun_2023/AoC_Dec2_2023.ipynb#X31sZmlsZQ%3D%3D?line=1'>2</a>\u001b[0m cube_count \u001b[39m=\u001b[39m []\n\u001b[0;32m----> <a href='vscode-notebook-cell:/Users/jdormaar/Projects/Advent_of_code_fun_2023/Advent_of_code_fun_2023/AoC_Dec2_2023.ipynb#X31sZmlsZQ%3D%3D?line=3'>4</a>\u001b[0m [cube_count\u001b[39m.\u001b[39mappend(game_set[i]\u001b[39m.\u001b[39mreplace(\u001b[39mf\u001b[39m\u001b[39m'\u001b[39m\u001b[39m \u001b[39m\u001b[39m{\u001b[39;00mkey\u001b[39m}\u001b[39;00m\u001b[39m'\u001b[39m, \u001b[39m'\u001b[39m\u001b[39m'\u001b[39m)) \u001b[39mfor\u001b[39;00m i, key \u001b[39min\u001b[39;00m \u001b[39mrange\u001b[39m(\u001b[39m3\u001b[39m) \u001b[39mif\u001b[39;00m cube_keys[\u001b[39m'\u001b[39m\u001b[39mkey\u001b[39m\u001b[39m'\u001b[39m] \u001b[39min\u001b[39;00m game_set[i]]\n",
      "\u001b[1;32m/Users/jdormaar/Projects/Advent_of_code_fun_2023/Advent_of_code_fun_2023/AoC_Dec2_2023.ipynb Cell 10\u001b[0m line \u001b[0;36m4\n\u001b[1;32m      <a href='vscode-notebook-cell:/Users/jdormaar/Projects/Advent_of_code_fun_2023/Advent_of_code_fun_2023/AoC_Dec2_2023.ipynb#X31sZmlsZQ%3D%3D?line=0'>1</a>\u001b[0m cube_keys \u001b[39m=\u001b[39m [\u001b[39m'\u001b[39m\u001b[39mred\u001b[39m\u001b[39m'\u001b[39m , \u001b[39m'\u001b[39m\u001b[39mgreen\u001b[39m\u001b[39m'\u001b[39m , \u001b[39m'\u001b[39m\u001b[39mblue\u001b[39m\u001b[39m'\u001b[39m]\n\u001b[1;32m      <a href='vscode-notebook-cell:/Users/jdormaar/Projects/Advent_of_code_fun_2023/Advent_of_code_fun_2023/AoC_Dec2_2023.ipynb#X31sZmlsZQ%3D%3D?line=1'>2</a>\u001b[0m cube_count \u001b[39m=\u001b[39m []\n\u001b[0;32m----> <a href='vscode-notebook-cell:/Users/jdormaar/Projects/Advent_of_code_fun_2023/Advent_of_code_fun_2023/AoC_Dec2_2023.ipynb#X31sZmlsZQ%3D%3D?line=3'>4</a>\u001b[0m [cube_count\u001b[39m.\u001b[39mappend(game_set[i]\u001b[39m.\u001b[39mreplace(\u001b[39mf\u001b[39m\u001b[39m'\u001b[39m\u001b[39m \u001b[39m\u001b[39m{\u001b[39;00mkey\u001b[39m}\u001b[39;00m\u001b[39m'\u001b[39m, \u001b[39m'\u001b[39m\u001b[39m'\u001b[39m)) \u001b[39mfor\u001b[39;00m i, key \u001b[39min\u001b[39;00m \u001b[39mrange\u001b[39m(\u001b[39m3\u001b[39m) \u001b[39mif\u001b[39;00m cube_keys[\u001b[39m'\u001b[39m\u001b[39mkey\u001b[39m\u001b[39m'\u001b[39m] \u001b[39min\u001b[39;00m game_set[i]]\n",
      "\u001b[0;31mTypeError\u001b[0m: cannot unpack non-iterable int object"
     ]
    }
   ],
   "source": [
    "cube_keys = ['red' , 'green' , 'blue']\n",
    "cube_count = []\n",
    "\n",
    "for i in range(3):\n",
    "  if cube_keys[i] in game_set[i]:\n",
    "    cube_count.append(i.replace(f' {cube_keys[i]}', ''))\n"
   ]
  },
  {
   "cell_type": "code",
   "execution_count": null,
   "metadata": {},
   "outputs": [],
   "source": [
    "[cube_count.append(game_set[i].replace(f' {key}', '')) for i, key in range(3) if cube_keys['key'] in game_set[i]]\n"
   ]
  },
  {
   "cell_type": "code",
   "execution_count": null,
   "metadata": {},
   "outputs": [],
   "source": []
  },
  {
   "cell_type": "markdown",
   "metadata": {},
   "source": [
    "<h2 \n",
    "  style=\"color:#207d06; border-bottom: 3px solid #f8b229; border-top: 3px solid #ea4630;\"\n",
    ">\n",
    "  Part Two\n",
    "</h2>"
   ]
  },
  {
   "cell_type": "markdown",
   "metadata": {},
   "source": []
  },
  {
   "cell_type": "markdown",
   "metadata": {},
   "source": [
    "<h5 style=\"text-align:right; padding-right: 10%;\">\n",
    "  <a href=\"#title\">Top Of Page</a>\n",
    "</h5>"
   ]
  }
 ],
 "metadata": {
  "kernelspec": {
   "display_name": "base_env",
   "language": "python",
   "name": "base_env"
  },
  "language_info": {
   "codemirror_mode": {
    "name": "ipython",
    "version": 3
   },
   "file_extension": ".py",
   "mimetype": "text/x-python",
   "name": "python",
   "nbconvert_exporter": "python",
   "pygments_lexer": "ipython3",
   "version": "3.10.12"
  }
 },
 "nbformat": 4,
 "nbformat_minor": 2
}
